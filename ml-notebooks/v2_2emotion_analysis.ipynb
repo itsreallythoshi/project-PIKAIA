{
  "nbformat": 4,
  "nbformat_minor": 0,
  "metadata": {
    "colab": {
      "name": "v2_2emotion_analysis.ipynb",
      "provenance": [],
      "collapsed_sections": []
    },
    "kernelspec": {
      "name": "python3",
      "display_name": "Python 3"
    }
  },
  "cells": [
    {
      "cell_type": "markdown",
      "metadata": {
        "id": "ZrfTr79jVNQN"
      },
      "source": [
        ""
      ]
    },
    {
      "cell_type": "markdown",
      "metadata": {
        "id": "sRvjve-Mg-PL"
      },
      "source": [
        "# Mount Google Drive "
      ]
    },
    {
      "cell_type": "code",
      "metadata": {
        "colab": {
          "base_uri": "https://localhost:8080/"
        },
        "id": "WAFZI0eXg2H_",
        "outputId": "cb3f7a11-afdc-4757-8358-438a1b2574e7"
      },
      "source": [
        "# Authorization User\r\n",
        "\r\n",
        "# installing necessary libraries to perform authorization\r\n",
        "\r\n",
        "!apt-get install -y -qq software-properties-common python-software-properties module-init-tools\r\n",
        "!add-apt-repository -y ppa:alessandro-strada/ppa 2>&1 > /dev/null\r\n",
        "!apt-get update -qq 2>&1 > /dev/null\r\n",
        "!apt-get -y install -qq google-drive-ocamlfuse fuse\r\n",
        "from google.colab import auth\r\n",
        "auth.authenticate_user()\r\n",
        "from oauth2client.client import GoogleCredentials\r\n",
        "creds = GoogleCredentials.get_application_default()\r\n",
        "import getpass\r\n",
        "!google-drive-ocamlfuse -headless -id={creds.client_id} -secret={creds.client_secret} < /dev/null 2>&1 | grep URL\r\n",
        "vcode = getpass.getpass()\r\n",
        "!echo {vcode} | google-drive-ocamlfuse -headless -id={creds.client_id} -secret={creds.client_secret}\r\n"
      ],
      "execution_count": null,
      "outputs": [
        {
          "output_type": "stream",
          "text": [
            "E: Package 'python-software-properties' has no installation candidate\n",
            "Selecting previously unselected package google-drive-ocamlfuse.\n",
            "(Reading database ... 146374 files and directories currently installed.)\n",
            "Preparing to unpack .../google-drive-ocamlfuse_0.7.24-0ubuntu1~ubuntu18.04.1_amd64.deb ...\n",
            "Unpacking google-drive-ocamlfuse (0.7.24-0ubuntu1~ubuntu18.04.1) ...\n",
            "Setting up google-drive-ocamlfuse (0.7.24-0ubuntu1~ubuntu18.04.1) ...\n",
            "Processing triggers for man-db (2.8.3-2ubuntu0.1) ...\n",
            "Please, open the following URL in a web browser: https://accounts.google.com/o/oauth2/auth?client_id=32555940559.apps.googleusercontent.com&redirect_uri=urn%3Aietf%3Awg%3Aoauth%3A2.0%3Aoob&scope=https%3A%2F%2Fwww.googleapis.com%2Fauth%2Fdrive&response_type=code&access_type=offline&approval_prompt=force\n",
            "··········\n",
            "Please, open the following URL in a web browser: https://accounts.google.com/o/oauth2/auth?client_id=32555940559.apps.googleusercontent.com&redirect_uri=urn%3Aietf%3Awg%3Aoauth%3A2.0%3Aoob&scope=https%3A%2F%2Fwww.googleapis.com%2Fauth%2Fdrive&response_type=code&access_type=offline&approval_prompt=force\n",
            "Please enter the verification code: Access token retrieved correctly.\n"
          ],
          "name": "stdout"
        }
      ]
    },
    {
      "cell_type": "code",
      "metadata": {
        "id": "LoXIvc-ThQYh",
        "colab": {
          "base_uri": "https://localhost:8080/"
        },
        "outputId": "8f9af43c-8ca9-430a-e1e7-ec7216698a39"
      },
      "source": [
        "# Mount google drive as disk\r\n",
        "\r\n",
        "!mkdir -p drive\r\n",
        "!google-drive-ocamlfuse drive"
      ],
      "execution_count": null,
      "outputs": [
        {
          "output_type": "stream",
          "text": [
            "fuse: mountpoint is not empty\n",
            "fuse: if you are sure this is safe, use the 'nonempty' mount option\n"
          ],
          "name": "stdout"
        }
      ]
    },
    {
      "cell_type": "code",
      "metadata": {
        "id": "K5o_7beZhWRL"
      },
      "source": [
        "# Create new folder if it does not exist\r\n",
        "\r\n",
        "# import os\r\n",
        "# os.mkdir(\"/content/drive/Emotion_Analysis\")\r\n",
        "# os.chdir(\"/content/drive/\") # chdir is used for !ls commands\r\n",
        "# !ls"
      ],
      "execution_count": null,
      "outputs": []
    },
    {
      "cell_type": "code",
      "metadata": {
        "colab": {
          "base_uri": "https://localhost:8080/"
        },
        "id": "L4hF4ky_lRAs",
        "outputId": "eb0b78df-52a6-4928-c84e-97fc4f69fdc2"
      },
      "source": [
        "# Check contents of folder working with\r\n",
        "import os\r\n",
        "\r\n",
        "os.chdir(\"/content/drive/Emotion_Analysis\")\r\n",
        "!ls"
      ],
      "execution_count": null,
      "outputs": [
        {
          "output_type": "stream",
          "text": [
            "data  embeddings  models\n"
          ],
          "name": "stdout"
        }
      ]
    },
    {
      "cell_type": "code",
      "metadata": {
        "id": "7kCn91sshf-L"
      },
      "source": [
        "# Append new folder/ path of folder to use to perform operations\r\n",
        "\r\n",
        "import sys\r\n",
        "sys.path.append('/content/drive/Emotion_Analysis')"
      ],
      "execution_count": null,
      "outputs": []
    },
    {
      "cell_type": "code",
      "metadata": {
        "colab": {
          "base_uri": "https://localhost:8080/"
        },
        "id": "lp4UTye9hqJi",
        "outputId": "d4261b28-a37a-4370-8e25-c22d85fa0ea4"
      },
      "source": [
        "# not working   # Check the content of the new dir/ or folder working on \r\n",
        "# not working   # os.chdir(\"/content/drive/Emotion_Analysis\")\r\n",
        "# not working   # os.chdir(\"/\")\r\n",
        "# not working   # !ls \r\n",
        "\r\n",
        "# print out appended working folder path\r\n",
        "print(sys.path[-1])"
      ],
      "execution_count": null,
      "outputs": [
        {
          "output_type": "stream",
          "text": [
            "/content/drive/Emotion_Analysis\n"
          ],
          "name": "stdout"
        }
      ]
    },
    {
      "cell_type": "markdown",
      "metadata": {
        "id": "UbD_W6dTiKn0"
      },
      "source": [
        "# Emotion Classification in texts using GRU and Word2Vec\r\n",
        "\r\n",
        "Workflow:\r\n",
        "\r\n",
        "\r\n",
        "1.   Import Data\r\n",
        "2.   Prepare the input data\r\n",
        "3.   Import pre-trained W2V\r\n",
        "4.   Create Neural Network Pipeline\r\n",
        "5.   Train The Model\r\n",
        "6.   Evaluate results\r\n",
        "7.   save the trained model for later use"
      ]
    },
    {
      "cell_type": "code",
      "metadata": {
        "colab": {
          "base_uri": "https://localhost:8080/"
        },
        "id": "GNe4RK6oiEfj",
        "outputId": "8c505662-83ee-4583-f335-8db9f76b0cab"
      },
      "source": [
        "# 1. Import Data\r\n",
        "\r\n",
        "import nltk\r\n",
        "nltk.download('punkt')\r\n",
        "\r\n",
        "import pandas as pd\r\n",
        "import numpy as np\r\n",
        "\r\n",
        "# text preprocessing\r\n",
        "from nltk.tokenize import word_tokenize\r\n",
        "import re\r\n",
        "\r\n",
        "# plots and metrics\r\n",
        "import matplotlib.pyplot as plt\r\n",
        "from sklearn.metrics import accuracy_score, f1_score, confusion_matrix\r\n",
        "\r\n",
        "# preparing input to our model\r\n",
        "from keras.preprocessing.text import Tokenizer\r\n",
        "from keras.preprocessing.sequence import pad_sequences\r\n",
        "from keras.utils import to_categorical\r\n",
        "\r\n",
        "# keras layers\r\n",
        "from keras.models import Sequential\r\n",
        "from keras.layers import Embedding, Bidirectional, LSTM, GRU, Dense"
      ],
      "execution_count": null,
      "outputs": [
        {
          "output_type": "stream",
          "text": [
            "[nltk_data] Downloading package punkt to /root/nltk_data...\n",
            "[nltk_data]   Unzipping tokenizers/punkt.zip.\n"
          ],
          "name": "stdout"
        }
      ]
    },
    {
      "cell_type": "code",
      "metadata": {
        "id": "d12aLOS4iSib"
      },
      "source": [
        "# Defining vector space dimension and fixed input size\r\n",
        "\r\n",
        "# Number of labels: joy, anger, fear, sadness, neutral\r\n",
        "num_classes = 5\r\n",
        "\r\n",
        "# Number of dimensions for word embedding\r\n",
        "embed_num_dims = 300\r\n",
        "\r\n",
        "# Max input length (max number of words) \r\n",
        "max_seq_len = 500\r\n",
        "\r\n",
        "class_names = ['joy', 'fear', 'anger', 'sadness', 'neutral']"
      ],
      "execution_count": null,
      "outputs": []
    },
    {
      "cell_type": "code",
      "metadata": {
        "id": "re2XHOJNiV2L"
      },
      "source": [
        "import io\r\n",
        "\r\n",
        "#Append your path\r\n",
        "# import sys\r\n",
        "# sys.path.append('/content/drive/Emotion_Analysis')\r\n",
        "\r\n",
        "\r\n",
        "# reference code\r\n",
        "# data_train = pd.read_csv('data/data_train.csv', encoding='utf-8')\r\n",
        "# data_test = pd.read_csv('data/data_test.csv', encoding='utf-8')\r\n",
        "# loaded_csv_file = pd.read_csv(io.BytesIO(data_to_load['filename.csv']))\r\n",
        "\r\n",
        "# data_train = pd.read_csv(io.BytesIO(data_to_load['data_train.csv']), encoding='utf-8')\r\n",
        "# data_test = pd.read_csv(io.BytesIO(data_to_load['data_test.csv']), encoding='utf-8')\r\n",
        "\r\n",
        "\r\n",
        "data_train = pd.read_csv('data/data_train.csv', encoding='utf-8')\r\n",
        "data_test = pd.read_csv('data/data_test.csv', encoding='utf-8')\r\n",
        "\r\n",
        "\r\n",
        "X_train = data_train.Text\r\n",
        "X_test = data_test.Text\r\n",
        "\r\n",
        "y_train = data_train.Emotion\r\n",
        "y_test = data_test.Emotion\r\n",
        "\r\n",
        "data = data_train.append(data_test, ignore_index=True)"
      ],
      "execution_count": null,
      "outputs": []
    },
    {
      "cell_type": "code",
      "metadata": {
        "colab": {
          "base_uri": "https://localhost:8080/",
          "height": 754
        },
        "id": "anJRq0kgiY2L",
        "outputId": "bbdd174e-2bfb-4016-97a8-525bdfd7f688"
      },
      "source": [
        "# printing out first 10 values of data_test to check if it was loaded correctly\r\n",
        "print(data.Emotion.value_counts())\r\n",
        "data.head(20)"
      ],
      "execution_count": null,
      "outputs": [
        {
          "output_type": "stream",
          "text": [
            "joy        2326\n",
            "sadness    2317\n",
            "anger      2259\n",
            "neutral    2254\n",
            "fear       2171\n",
            "Name: Emotion, dtype: int64\n"
          ],
          "name": "stdout"
        },
        {
          "output_type": "execute_result",
          "data": {
            "text/html": [
              "<div>\n",
              "<style scoped>\n",
              "    .dataframe tbody tr th:only-of-type {\n",
              "        vertical-align: middle;\n",
              "    }\n",
              "\n",
              "    .dataframe tbody tr th {\n",
              "        vertical-align: top;\n",
              "    }\n",
              "\n",
              "    .dataframe thead th {\n",
              "        text-align: right;\n",
              "    }\n",
              "</style>\n",
              "<table border=\"1\" class=\"dataframe\">\n",
              "  <thead>\n",
              "    <tr style=\"text-align: right;\">\n",
              "      <th></th>\n",
              "      <th>Emotion</th>\n",
              "      <th>Text</th>\n",
              "    </tr>\n",
              "  </thead>\n",
              "  <tbody>\n",
              "    <tr>\n",
              "      <th>0</th>\n",
              "      <td>neutral</td>\n",
              "      <td>There are tons of other paintings that I thin...</td>\n",
              "    </tr>\n",
              "    <tr>\n",
              "      <th>1</th>\n",
              "      <td>sadness</td>\n",
              "      <td>Yet the dog had grown old and less capable , a...</td>\n",
              "    </tr>\n",
              "    <tr>\n",
              "      <th>2</th>\n",
              "      <td>fear</td>\n",
              "      <td>When I get into the tube or the train without ...</td>\n",
              "    </tr>\n",
              "    <tr>\n",
              "      <th>3</th>\n",
              "      <td>fear</td>\n",
              "      <td>This last may be a source of considerable disq...</td>\n",
              "    </tr>\n",
              "    <tr>\n",
              "      <th>4</th>\n",
              "      <td>anger</td>\n",
              "      <td>She disliked the intimacy he showed towards so...</td>\n",
              "    </tr>\n",
              "    <tr>\n",
              "      <th>5</th>\n",
              "      <td>sadness</td>\n",
              "      <td>When my family heard that my Mother's cousin w...</td>\n",
              "    </tr>\n",
              "    <tr>\n",
              "      <th>6</th>\n",
              "      <td>joy</td>\n",
              "      <td>Finding out I am chosen to collect norms for C...</td>\n",
              "    </tr>\n",
              "    <tr>\n",
              "      <th>7</th>\n",
              "      <td>anger</td>\n",
              "      <td>A spokesperson said : ` Glen is furious that t...</td>\n",
              "    </tr>\n",
              "    <tr>\n",
              "      <th>8</th>\n",
              "      <td>neutral</td>\n",
              "      <td>Yes .</td>\n",
              "    </tr>\n",
              "    <tr>\n",
              "      <th>9</th>\n",
              "      <td>sadness</td>\n",
              "      <td>When I see people with burns I feel sad, actua...</td>\n",
              "    </tr>\n",
              "    <tr>\n",
              "      <th>10</th>\n",
              "      <td>fear</td>\n",
              "      <td>I had gone to the hospital for my research and...</td>\n",
              "    </tr>\n",
              "    <tr>\n",
              "      <th>11</th>\n",
              "      <td>sadness</td>\n",
              "      <td>One day I heard from a friend that the boy I l...</td>\n",
              "    </tr>\n",
              "    <tr>\n",
              "      <th>12</th>\n",
              "      <td>joy</td>\n",
              "      <td>Connor 's voice was gleeful .</td>\n",
              "    </tr>\n",
              "    <tr>\n",
              "      <th>13</th>\n",
              "      <td>anger</td>\n",
              "      <td>Very funny . What's wrong with you today ? Yo...</td>\n",
              "    </tr>\n",
              "    <tr>\n",
              "      <th>14</th>\n",
              "      <td>neutral</td>\n",
              "      <td>Perhaps we need to have more babies ! Tina ga...</td>\n",
              "    </tr>\n",
              "    <tr>\n",
              "      <th>15</th>\n",
              "      <td>neutral</td>\n",
              "      <td>Why ?</td>\n",
              "    </tr>\n",
              "    <tr>\n",
              "      <th>16</th>\n",
              "      <td>joy</td>\n",
              "      <td>` I am very happy with the way I am playing bu...</td>\n",
              "    </tr>\n",
              "    <tr>\n",
              "      <th>17</th>\n",
              "      <td>fear</td>\n",
              "      <td>When I have to leave the baby in the carriage ...</td>\n",
              "    </tr>\n",
              "    <tr>\n",
              "      <th>18</th>\n",
              "      <td>anger</td>\n",
              "      <td>No , you used to be . But not now . You are i...</td>\n",
              "    </tr>\n",
              "    <tr>\n",
              "      <th>19</th>\n",
              "      <td>anger</td>\n",
              "      <td>Wow ! Why so much ? I thought they were getti...</td>\n",
              "    </tr>\n",
              "  </tbody>\n",
              "</table>\n",
              "</div>"
            ],
            "text/plain": [
              "    Emotion                                               Text\n",
              "0   neutral   There are tons of other paintings that I thin...\n",
              "1   sadness  Yet the dog had grown old and less capable , a...\n",
              "2      fear  When I get into the tube or the train without ...\n",
              "3      fear  This last may be a source of considerable disq...\n",
              "4     anger  She disliked the intimacy he showed towards so...\n",
              "5   sadness  When my family heard that my Mother's cousin w...\n",
              "6       joy  Finding out I am chosen to collect norms for C...\n",
              "7     anger  A spokesperson said : ` Glen is furious that t...\n",
              "8   neutral                                             Yes . \n",
              "9   sadness  When I see people with burns I feel sad, actua...\n",
              "10     fear  I had gone to the hospital for my research and...\n",
              "11  sadness  One day I heard from a friend that the boy I l...\n",
              "12      joy                     Connor 's voice was gleeful . \n",
              "13    anger   Very funny . What's wrong with you today ? Yo...\n",
              "14  neutral   Perhaps we need to have more babies ! Tina ga...\n",
              "15  neutral                                             Why ? \n",
              "16      joy  ` I am very happy with the way I am playing bu...\n",
              "17     fear  When I have to leave the baby in the carriage ...\n",
              "18    anger   No , you used to be . But not now . You are i...\n",
              "19    anger   Wow ! Why so much ? I thought they were getti..."
            ]
          },
          "metadata": {
            "tags": []
          },
          "execution_count": 79
        }
      ]
    },
    {
      "cell_type": "markdown",
      "metadata": {
        "id": "3YcX_R_5iUBb"
      },
      "source": [
        "# Preparing the input data\r\n",
        "\r\n",
        "In this section we will preprocess the data so we can load it to our NN Model (LSTM)\r\n",
        "\r\n",
        "the preprocessing will be done in the following steps\r\n",
        "1. Tokenize our texts and count unique tokens\r\n",
        "2. Padding: each input (sentence or text) has to be of the same length\r\n",
        "3. Labels have to be converted to integeres and categorized\r\n",
        "\r\n",
        "\r\n",
        "Basic preprocessing and tokenization using nltk to double check that sentences are properly split into words. We could also add stopword removal but steps like stemming or lemmatization are not needed since we are using word2vec and words with the same stem can have a different meaning"
      ]
    },
    {
      "cell_type": "code",
      "metadata": {
        "id": "kA2D_d6ciatr"
      },
      "source": [
        "# defining a function to clean data\r\n",
        "\r\n",
        "def clean_text(data):\r\n",
        "    \r\n",
        "    # remove hashtags and @usernames\r\n",
        "    data = re.sub(r\"(#[\\d\\w\\.]+)\", '', data)\r\n",
        "    data = re.sub(r\"(@[\\d\\w\\.]+)\", '', data)\r\n",
        "    \r\n",
        "    # tekenization using nltk\r\n",
        "    data = word_tokenize(data)\r\n",
        "    \r\n",
        "    return data"
      ],
      "execution_count": null,
      "outputs": []
    },
    {
      "cell_type": "code",
      "metadata": {
        "id": "tZlSa3GkikyM"
      },
      "source": [
        "texts = [' '.join(clean_text(text)) for text in data.Text]\r\n",
        "\r\n",
        "texts_train = [' '.join(clean_text(text)) for text in X_train]\r\n",
        "texts_test = [' '.join(clean_text(text)) for text in X_test]"
      ],
      "execution_count": null,
      "outputs": []
    },
    {
      "cell_type": "code",
      "metadata": {
        "colab": {
          "base_uri": "https://localhost:8080/"
        },
        "id": "ZTlgA6kvin2I",
        "outputId": "590762bc-b710-4613-86c1-f05a69d67ace"
      },
      "source": [
        "# printing out some of the texts to check if they were cleaned properly\r\n",
        "\r\n",
        "print('texts_train[92]: ',texts_train[92])\r\n",
        "print('texts_train[56]: ',texts_train[56])\r\n",
        "print('texts_train[34]: ',texts_train[34])"
      ],
      "execution_count": null,
      "outputs": [
        {
          "output_type": "stream",
          "text": [
            "texts_train[92]:  a bit ? I 'm extremely annoyed that he did n't phone me when he promised me that he would ! He 's such a liar .\n",
            "texts_train[56]:  This feeling occurred to me when my colleague entered in G.V . ( University ) and I did n't .\n",
            "texts_train[34]:  When biking and I felt very bad ( problems with heart and respiration ) .\n"
          ],
          "name": "stdout"
        }
      ]
    },
    {
      "cell_type": "code",
      "metadata": {
        "colab": {
          "base_uri": "https://localhost:8080/"
        },
        "id": "2ubY-TXQiqQr",
        "outputId": "41a0edb1-3314-4dd3-d0d8-e37cd95d7293"
      },
      "source": [
        "# Tokenizing and fitting the model using keras library\r\n",
        "\r\n",
        "tokenizer = Tokenizer()\r\n",
        "tokenizer.fit_on_texts(texts)\r\n",
        "\r\n",
        "sequence_train = tokenizer.texts_to_sequences(texts_train)\r\n",
        "sequence_test = tokenizer.texts_to_sequences(texts_test)\r\n",
        "\r\n",
        "index_of_words = tokenizer.word_index\r\n",
        "\r\n",
        "# vacab size is number of unique words + reserved 0 index for padding\r\n",
        "vocab_size = len(index_of_words) + 1\r\n",
        "\r\n",
        "print('Number of unique words: {}'.format(len(index_of_words)))"
      ],
      "execution_count": null,
      "outputs": [
        {
          "output_type": "stream",
          "text": [
            "Number of unique words: 12088\n"
          ],
          "name": "stdout"
        }
      ]
    },
    {
      "cell_type": "code",
      "metadata": {
        "colab": {
          "base_uri": "https://localhost:8080/"
        },
        "id": "K6zXnbn3isqE",
        "outputId": "8eaf6cbb-9cf3-4086-8a4a-81762653ca67"
      },
      "source": [
        "# Padding inputs so each of them have the same length\r\n",
        "\r\n",
        "# We defined maximun number of words for our texts and input size to our model has to be fixed - \r\n",
        "# padding with zeros to keep the same input lenght (longest input in our dataset is ~250 words)\r\n",
        "\r\n",
        "\r\n",
        "X_train_pad = pad_sequences(sequence_train, maxlen = max_seq_len )\r\n",
        "X_test_pad = pad_sequences(sequence_test, maxlen = max_seq_len )\r\n",
        "\r\n",
        "X_train_pad"
      ],
      "execution_count": null,
      "outputs": [
        {
          "output_type": "execute_result",
          "data": {
            "text/plain": [
              "array([[    0,     0,     0, ...,   119,    51,   345],\n",
              "       [    0,     0,     0, ...,    37,   277,   154],\n",
              "       [    0,     0,     0, ...,    16,     2,  1210],\n",
              "       ...,\n",
              "       [    0,     0,     0, ...,   876,     4,   909],\n",
              "       [    0,     0,     0, ...,     1,     6,   117],\n",
              "       [    0,     0,     0, ..., 10259,   173,    13]], dtype=int32)"
            ]
          },
          "metadata": {
            "tags": []
          },
          "execution_count": 16
        }
      ]
    },
    {
      "cell_type": "code",
      "metadata": {
        "id": "ovIrgIFLiuJi"
      },
      "source": [
        "# Categorizing labels\r\n",
        "\r\n",
        "encoding = {\r\n",
        "    'joy': 0,\r\n",
        "    'fear': 1,\r\n",
        "    'anger': 2,\r\n",
        "    'sadness': 3,\r\n",
        "    'neutral': 4\r\n",
        "}\r\n",
        "\r\n",
        "# Integer labels\r\n",
        "y_train = [encoding[x] for x in data_train.Emotion]\r\n",
        "y_test = [encoding[x] for x in data_test.Emotion]"
      ],
      "execution_count": null,
      "outputs": []
    },
    {
      "cell_type": "code",
      "metadata": {
        "colab": {
          "base_uri": "https://localhost:8080/"
        },
        "id": "RCl3ZIREivmr",
        "outputId": "ceced383-e06a-4fa8-a0e4-010e5f353faf"
      },
      "source": [
        "y_train = to_categorical(y_train)\r\n",
        "y_test = to_categorical(y_test)\r\n",
        "\r\n",
        "y_train"
      ],
      "execution_count": null,
      "outputs": [
        {
          "output_type": "execute_result",
          "data": {
            "text/plain": [
              "array([[0., 0., 0., 0., 1.],\n",
              "       [0., 0., 0., 1., 0.],\n",
              "       [0., 1., 0., 0., 0.],\n",
              "       ...,\n",
              "       [0., 0., 0., 1., 0.],\n",
              "       [0., 1., 0., 0., 0.],\n",
              "       [0., 0., 1., 0., 0.]], dtype=float32)"
            ]
          },
          "metadata": {
            "tags": []
          },
          "execution_count": 18
        }
      ]
    },
    {
      "cell_type": "markdown",
      "metadata": {
        "id": "4gqd0mtfiyqL"
      },
      "source": [
        "# Import pretrained word vectors (w2v)\r\n",
        "\r\n",
        "\r\n",
        "*   Importing pretrained word2vec from file and creating embedding matrix\r\n",
        "*   We will later map each word in our corpus to existing word vector"
      ]
    },
    {
      "cell_type": "code",
      "metadata": {
        "id": "79JsLIqji0i1"
      },
      "source": [
        "def create_embedding_matrix(filepath, word_index, embedding_dim):\r\n",
        "    vocab_size = len(word_index) + 1  # Adding again 1 because of reserved 0 index\r\n",
        "    embedding_matrix = np.zeros((vocab_size, embedding_dim))\r\n",
        "    with open(filepath) as f:\r\n",
        "        for line in f:\r\n",
        "            word, *vector = line.split()\r\n",
        "            if word in word_index:\r\n",
        "                idx = word_index[word] \r\n",
        "                embedding_matrix[idx] = np.array(\r\n",
        "                    vector, dtype=np.float32)[:embedding_dim]\r\n",
        "    return embedding_matrix"
      ],
      "execution_count": null,
      "outputs": []
    },
    {
      "cell_type": "markdown",
      "metadata": {
        "id": "cOE13WBFi2x8"
      },
      "source": [
        "You can download and import any pre-trained word embeddings. I will use 300 dimentional w2v pre-trained on wikipedia articles. Download fast text english \r\n",
        "<br>\r\n",
        "\r\n",
        "---\r\n",
        "\r\n",
        "\r\n",
        "vectors: https://fasttext.cc/docs/en/english-vectors.html\r\n"
      ]
    },
    {
      "cell_type": "code",
      "metadata": {
        "colab": {
          "base_uri": "https://localhost:8080/"
        },
        "id": "qYX6MgMojMlD",
        "outputId": "6505694a-ebad-4678-b0db-70b3e814e5aa"
      },
      "source": [
        "# check if embedding file is there\r\n",
        "os.chdir(\"/content/drive/Emotion_Analysis/embeddings/\")\r\n",
        "!ls"
      ],
      "execution_count": null,
      "outputs": [
        {
          "output_type": "stream",
          "text": [
            "wiki-news-300d-1M.vec  wiki-news-300d-1M.vec.zip\n"
          ],
          "name": "stdout"
        }
      ]
    },
    {
      "cell_type": "code",
      "metadata": {
        "colab": {
          "base_uri": "https://localhost:8080/"
        },
        "id": "lQMXeF_7mU9U",
        "outputId": "c861f1af-c369-4e49-8f09-9354078e114c"
      },
      "source": [
        "import urllib.request\r\n",
        "import zipfile\r\n",
        "import os\r\n",
        "\r\n",
        "fname = '/content/drive/Emotion_Analysis/embeddings/wiki-news-300d-1M.vec'\r\n",
        "\r\n",
        "if os.path.isfile(fname):\r\n",
        "  print(\"found\")  "
      ],
      "execution_count": null,
      "outputs": [
        {
          "output_type": "stream",
          "text": [
            "found\n"
          ],
          "name": "stdout"
        }
      ]
    },
    {
      "cell_type": "code",
      "metadata": {
        "colab": {
          "base_uri": "https://localhost:8080/"
        },
        "id": "LnL5SNvy3qM0",
        "outputId": "0ebcc9dd-989a-4d29-91cd-6c40f5a33fa5"
      },
      "source": [
        "embedd_matrix = create_embedding_matrix(fname, index_of_words, embed_num_dims)\r\n",
        "embedd_matrix.shape"
      ],
      "execution_count": null,
      "outputs": [
        {
          "output_type": "execute_result",
          "data": {
            "text/plain": [
              "(12089, 300)"
            ]
          },
          "metadata": {
            "tags": []
          },
          "execution_count": 22
        }
      ]
    },
    {
      "cell_type": "markdown",
      "metadata": {
        "id": "OUdafNiI3xks"
      },
      "source": [
        "Some of the words from our corpus were not included in the pre-trained word vectors. If we inspect those words we'll see that it's mostly spelling errors. It's also good to double check the noise in our data f.e different languages or tokenizer errors."
      ]
    },
    {
      "cell_type": "code",
      "metadata": {
        "colab": {
          "base_uri": "https://localhost:8080/"
        },
        "id": "OoqiEbSz30dM",
        "outputId": "a92ffab6-9574-4543-9fe3-fe40e3f5a72e"
      },
      "source": [
        "# Inspect unseen words\r\n",
        "new_words = 0\r\n",
        "\r\n",
        "for word in index_of_words:\r\n",
        "    entry = embedd_matrix[index_of_words[word]]\r\n",
        "    if all(v == 0 for v in entry):\r\n",
        "        new_words = new_words + 1\r\n",
        "\r\n",
        "print('Words found in wiki vocab: ' + str(len(index_of_words) - new_words))\r\n",
        "print('New words found: ' + str(new_words))"
      ],
      "execution_count": null,
      "outputs": [
        {
          "output_type": "stream",
          "text": [
            "Words found in wiki vocab: 11442\n",
            "New words found: 646\n"
          ],
          "name": "stdout"
        }
      ]
    },
    {
      "cell_type": "markdown",
      "metadata": {
        "id": "BGLR_21k3_Pu"
      },
      "source": [
        "# Create LSTM Pipeline\r\n",
        "\r\n",
        "**Embedding Layer**\r\n",
        "\r\n",
        "We will use pre-trained word vectors. We could also train our own embedding layer if we don't specify the pre-trained weights\r\n",
        "\r\n",
        "* vocabulary size: the maximum number of terms that are used to represent a text: e.g. if we set the size of the “vocabulary” to 1000 only the first thousand terms most frequent in the corpus will be considered (and the other terms will be ignored)\r\n",
        "* the maximum length: of the texts (which must all be the same length)\r\n",
        "* size of embeddings: basically, the more dimensions we have the more precise the semantics will be, but beyond a certain threshold we will lose the ability of the embedding to define a coherent and general enough semantic area\r\n",
        "* trainable: True if you want to fine-tune them while training\r\n"
      ]
    },
    {
      "cell_type": "code",
      "metadata": {
        "id": "fVnKoDM23-aq"
      },
      "source": [
        "# Embedding layer before the actaul BLSTM \r\n",
        "embedd_layer = Embedding(vocab_size,embed_num_dims,input_length = max_seq_len,weights = [embedd_matrix],trainable=False)"
      ],
      "execution_count": null,
      "outputs": []
    },
    {
      "cell_type": "markdown",
      "metadata": {
        "id": "WYY8er7S4lNT"
      },
      "source": [
        "**Model Pipeline**\r\n",
        "\r\n",
        "* the input is the first N words of each text (with proper padding)\r\n",
        "* the first level creates embedding of words, using vocabulary with a certain dimension, and a given size of embeddings\r\n",
        "* LSTM/GRU layer which will receive word embeddings for each token in the tweet as inputs. The intuition is that its output tokens will store information not only of the initial token, but also any previous tokens; In other words, the LSTM layer is generating a new encoding for the original input.\r\n",
        "* the output level has a number of neurons equal to the classes of the problem and a “softmax” activation function\r\n",
        "\r\n",
        "\r\n",
        "**You can change GRU to LSTM. The results will be very similar but LSTM might take longer to train.**\r\n"
      ]
    },
    {
      "cell_type": "code",
      "metadata": {
        "id": "5Qk9V8mL4hCx"
      },
      "source": [
        "# Parameters\r\n",
        "gru_output_size = 128\r\n",
        "bidirectional = True\r\n",
        "\r\n",
        "# Embedding Layer, LSTM or biLSTM, Dense, softmax\r\n",
        "model = Sequential()\r\n",
        "model.add(embedd_layer)\r\n",
        "\r\n",
        "if bidirectional:\r\n",
        "    model.add(Bidirectional(GRU(units=gru_output_size,\r\n",
        "                              dropout=0.2,\r\n",
        "                              recurrent_dropout=0.2)))\r\n",
        "else:\r\n",
        "     model.add(GRU(units=gru_output_size,\r\n",
        "                dropout=0.2, \r\n",
        "                recurrent_dropout=0.2))\r\n",
        "\r\n",
        "model.add(Dense(num_classes, activation='softmax'))"
      ],
      "execution_count": null,
      "outputs": []
    },
    {
      "cell_type": "code",
      "metadata": {
        "colab": {
          "base_uri": "https://localhost:8080/"
        },
        "id": "j_kl4oJK5Y6h",
        "outputId": "87678665-8455-4069-fa33-ad17842d42aa"
      },
      "source": [
        "model.compile(loss = 'categorical_crossentropy', optimizer = 'adam', metrics = ['accuracy'])\r\n",
        "model.summary()"
      ],
      "execution_count": null,
      "outputs": [
        {
          "output_type": "stream",
          "text": [
            "Model: \"sequential_1\"\n",
            "_________________________________________________________________\n",
            "Layer (type)                 Output Shape              Param #   \n",
            "=================================================================\n",
            "embedding (Embedding)        (None, 500, 300)          3626700   \n",
            "_________________________________________________________________\n",
            "bidirectional (Bidirectional (None, 256)               330240    \n",
            "_________________________________________________________________\n",
            "dense (Dense)                (None, 5)                 1285      \n",
            "=================================================================\n",
            "Total params: 3,958,225\n",
            "Trainable params: 331,525\n",
            "Non-trainable params: 3,626,700\n",
            "_________________________________________________________________\n"
          ],
          "name": "stdout"
        }
      ]
    },
    {
      "cell_type": "markdown",
      "metadata": {
        "id": "WNWgfDa25g27"
      },
      "source": [
        "# Train the Model - version 2 - 30 epochs\r\n",
        "\r\n",
        "**validation data:** use validation_split in order to estimate how well your model has been trained and adjust parameters or add dropout layers. After that we will train the model using the complete train set.\r\n",
        "\r\n",
        "**epochs:** 30 \r\n",
        "\r\n",
        "\r\n",
        "**batch_size:** 128"
      ]
    },
    {
      "cell_type": "code",
      "metadata": {
        "colab": {
          "base_uri": "https://localhost:8080/"
        },
        "id": "rgTYMZqH5ePi",
        "outputId": "b620c76d-902b-4ab4-9aa0-76f00cafb189"
      },
      "source": [
        "batch_size = 128\r\n",
        "epochs = 30\r\n",
        "\r\n",
        "hist = model.fit(X_train_pad, y_train, \r\n",
        "                 batch_size=batch_size,\r\n",
        "                 epochs=epochs,\r\n",
        "                 validation_data=(X_test_pad,y_test))"
      ],
      "execution_count": null,
      "outputs": [
        {
          "output_type": "stream",
          "text": [
            "Epoch 1/30\n",
            "62/62 [==============================] - 404s 6s/step - loss: 1.5012 - accuracy: 0.3152 - val_loss: 1.2727 - val_accuracy: 0.4786\n",
            "Epoch 2/30\n",
            "62/62 [==============================] - 400s 6s/step - loss: 1.1809 - accuracy: 0.5282 - val_loss: 1.0231 - val_accuracy: 0.6127\n",
            "Epoch 3/30\n",
            "62/62 [==============================] - 400s 6s/step - loss: 0.9222 - accuracy: 0.6576 - val_loss: 0.8378 - val_accuracy: 0.6905\n",
            "Epoch 4/30\n",
            "62/62 [==============================] - 399s 6s/step - loss: 0.8200 - accuracy: 0.6970 - val_loss: 0.8067 - val_accuracy: 0.7121\n",
            "Epoch 5/30\n",
            "62/62 [==============================] - 398s 6s/step - loss: 0.7491 - accuracy: 0.7295 - val_loss: 0.7902 - val_accuracy: 0.7129\n",
            "Epoch 6/30\n",
            "62/62 [==============================] - 398s 6s/step - loss: 0.7183 - accuracy: 0.7428 - val_loss: 0.7608 - val_accuracy: 0.7241\n",
            "Epoch 7/30\n",
            "62/62 [==============================] - 401s 6s/step - loss: 0.7163 - accuracy: 0.7420 - val_loss: 0.7678 - val_accuracy: 0.7182\n",
            "Epoch 8/30\n",
            "62/62 [==============================] - 400s 6s/step - loss: 0.6627 - accuracy: 0.7596 - val_loss: 0.7439 - val_accuracy: 0.7339\n",
            "Epoch 9/30\n",
            "62/62 [==============================] - 399s 6s/step - loss: 0.6321 - accuracy: 0.7698 - val_loss: 0.7667 - val_accuracy: 0.7156\n",
            "Epoch 10/30\n",
            "62/62 [==============================] - 398s 6s/step - loss: 0.6255 - accuracy: 0.7777 - val_loss: 0.7348 - val_accuracy: 0.7342\n",
            "Epoch 11/30\n",
            "62/62 [==============================] - 398s 6s/step - loss: 0.6045 - accuracy: 0.7882 - val_loss: 0.7442 - val_accuracy: 0.7377\n",
            "Epoch 12/30\n",
            "62/62 [==============================] - 399s 6s/step - loss: 0.6113 - accuracy: 0.7782 - val_loss: 0.7366 - val_accuracy: 0.7339\n",
            "Epoch 13/30\n",
            "62/62 [==============================] - 398s 6s/step - loss: 0.5757 - accuracy: 0.7966 - val_loss: 0.7269 - val_accuracy: 0.7318\n",
            "Epoch 14/30\n",
            "62/62 [==============================] - 400s 6s/step - loss: 0.5585 - accuracy: 0.8051 - val_loss: 0.7356 - val_accuracy: 0.7315\n",
            "Epoch 15/30\n",
            "62/62 [==============================] - 403s 7s/step - loss: 0.5461 - accuracy: 0.8065 - val_loss: 0.7363 - val_accuracy: 0.7424\n",
            "Epoch 16/30\n",
            "62/62 [==============================] - 407s 7s/step - loss: 0.5414 - accuracy: 0.8072 - val_loss: 0.7473 - val_accuracy: 0.7368\n",
            "Epoch 17/30\n",
            "62/62 [==============================] - 407s 7s/step - loss: 0.5477 - accuracy: 0.8039 - val_loss: 0.7260 - val_accuracy: 0.7433\n",
            "Epoch 18/30\n",
            "62/62 [==============================] - 405s 7s/step - loss: 0.5205 - accuracy: 0.8169 - val_loss: 0.7295 - val_accuracy: 0.7439\n",
            "Epoch 19/30\n",
            "62/62 [==============================] - 406s 7s/step - loss: 0.5055 - accuracy: 0.8155 - val_loss: 0.7251 - val_accuracy: 0.7436\n",
            "Epoch 20/30\n",
            "62/62 [==============================] - 407s 7s/step - loss: 0.5113 - accuracy: 0.8154 - val_loss: 0.7316 - val_accuracy: 0.7406\n",
            "Epoch 21/30\n",
            "62/62 [==============================] - 408s 7s/step - loss: 0.4963 - accuracy: 0.8330 - val_loss: 0.7454 - val_accuracy: 0.7389\n",
            "Epoch 22/30\n",
            "62/62 [==============================] - 409s 7s/step - loss: 0.4738 - accuracy: 0.8243 - val_loss: 0.7493 - val_accuracy: 0.7465\n",
            "Epoch 23/30\n",
            "62/62 [==============================] - 410s 7s/step - loss: 0.4645 - accuracy: 0.8306 - val_loss: 0.7591 - val_accuracy: 0.7395\n",
            "Epoch 24/30\n",
            "62/62 [==============================] - 411s 7s/step - loss: 0.4360 - accuracy: 0.8472 - val_loss: 0.7333 - val_accuracy: 0.7515\n",
            "Epoch 25/30\n",
            "62/62 [==============================] - 410s 7s/step - loss: 0.4505 - accuracy: 0.8455 - val_loss: 0.7592 - val_accuracy: 0.7480\n",
            "Epoch 26/30\n",
            "62/62 [==============================] - 410s 7s/step - loss: 0.4231 - accuracy: 0.8508 - val_loss: 0.7524 - val_accuracy: 0.7451\n",
            "Epoch 27/30\n",
            "62/62 [==============================] - 404s 7s/step - loss: 0.4189 - accuracy: 0.8531 - val_loss: 0.7550 - val_accuracy: 0.7504\n",
            "Epoch 28/30\n",
            "62/62 [==============================] - 403s 7s/step - loss: 0.4107 - accuracy: 0.8588 - val_loss: 0.7615 - val_accuracy: 0.7483\n",
            "Epoch 29/30\n",
            "62/62 [==============================] - 404s 7s/step - loss: 0.3910 - accuracy: 0.8636 - val_loss: 0.7760 - val_accuracy: 0.7392\n",
            "Epoch 30/30\n",
            "62/62 [==============================] - 404s 7s/step - loss: 0.3751 - accuracy: 0.8702 - val_loss: 0.7777 - val_accuracy: 0.7451\n"
          ],
          "name": "stdout"
        }
      ]
    },
    {
      "cell_type": "code",
      "metadata": {
        "colab": {
          "base_uri": "https://localhost:8080/",
          "height": 238
        },
        "id": "ytAd2oho6BmE",
        "outputId": "45411bb4-753e-43cc-8f8b-4e1a49c75f37"
      },
      "source": [
        "#  \"Accuracy\"\r\n",
        "plt.plot(hist.history['accuracy'], 'g')\r\n",
        "plt.plot(hist.history['val_accuracy'], ':r')\r\n",
        "plt.title('GRU v2 model accuracy')\r\n",
        "plt.ylabel('Accuracy')\r\n",
        "plt.xlabel('Epoch number')\r\n",
        "plt.legend(['training', 'validation'], loc='lower right')\r\n",
        "plt.show()\r\n",
        "\r\n",
        "# \"Loss\"\r\n",
        "plt.plot(hist.history['loss'], 'r')\r\n",
        "plt.plot(hist.history['val_loss'], ':g')\r\n",
        "plt.title('GRU v2 model loss')\r\n",
        "plt.ylabel('Loss')\r\n",
        "plt.xlabel('Epoch number')\r\n",
        "plt.legend(['training', 'validation'], loc='upper right')\r\n",
        "plt.show()\r\n",
        "\r\n"
      ],
      "execution_count": null,
      "outputs": [
        {
          "output_type": "error",
          "ename": "NameError",
          "evalue": "ignored",
          "traceback": [
            "\u001b[0;31m---------------------------------------------------------------------------\u001b[0m",
            "\u001b[0;31mNameError\u001b[0m                                 Traceback (most recent call last)",
            "\u001b[0;32m<ipython-input-2-5bfdbd76c019>\u001b[0m in \u001b[0;36m<module>\u001b[0;34m()\u001b[0m\n\u001b[1;32m      1\u001b[0m \u001b[0;31m#  \"Accuracy\"\u001b[0m\u001b[0;34m\u001b[0m\u001b[0;34m\u001b[0m\u001b[0;34m\u001b[0m\u001b[0m\n\u001b[0;32m----> 2\u001b[0;31m \u001b[0mplt\u001b[0m\u001b[0;34m.\u001b[0m\u001b[0mplot\u001b[0m\u001b[0;34m(\u001b[0m\u001b[0mhist\u001b[0m\u001b[0;34m.\u001b[0m\u001b[0mhistory\u001b[0m\u001b[0;34m[\u001b[0m\u001b[0;34m'accuracy'\u001b[0m\u001b[0;34m]\u001b[0m\u001b[0;34m,\u001b[0m \u001b[0;34m'g'\u001b[0m\u001b[0;34m)\u001b[0m\u001b[0;34m\u001b[0m\u001b[0;34m\u001b[0m\u001b[0m\n\u001b[0m\u001b[1;32m      3\u001b[0m \u001b[0mplt\u001b[0m\u001b[0;34m.\u001b[0m\u001b[0mplot\u001b[0m\u001b[0;34m(\u001b[0m\u001b[0mhist\u001b[0m\u001b[0;34m.\u001b[0m\u001b[0mhistory\u001b[0m\u001b[0;34m[\u001b[0m\u001b[0;34m'val_accuracy'\u001b[0m\u001b[0;34m]\u001b[0m\u001b[0;34m,\u001b[0m \u001b[0;34m':r'\u001b[0m\u001b[0;34m)\u001b[0m\u001b[0;34m\u001b[0m\u001b[0;34m\u001b[0m\u001b[0m\n\u001b[1;32m      4\u001b[0m \u001b[0mplt\u001b[0m\u001b[0;34m.\u001b[0m\u001b[0mtitle\u001b[0m\u001b[0;34m(\u001b[0m\u001b[0;34m'GRU v2 model accuracy'\u001b[0m\u001b[0;34m)\u001b[0m\u001b[0;34m\u001b[0m\u001b[0;34m\u001b[0m\u001b[0m\n\u001b[1;32m      5\u001b[0m \u001b[0mplt\u001b[0m\u001b[0;34m.\u001b[0m\u001b[0mylabel\u001b[0m\u001b[0;34m(\u001b[0m\u001b[0;34m'Accuracy'\u001b[0m\u001b[0;34m)\u001b[0m\u001b[0;34m\u001b[0m\u001b[0;34m\u001b[0m\u001b[0m\n",
            "\u001b[0;31mNameError\u001b[0m: name 'plt' is not defined"
          ]
        }
      ]
    },
    {
      "cell_type": "markdown",
      "metadata": {
        "id": "jvnzUq3Y6GaT"
      },
      "source": [
        "# Evaluation"
      ]
    },
    {
      "cell_type": "code",
      "metadata": {
        "id": "F-Zr67lR6OzV"
      },
      "source": [
        "predictions = model.predict(X_test_pad)\r\n",
        "predictions = np.argmax(predictions, axis=1)\r\n",
        "predictions = [class_names[pred] for pred in predictions]"
      ],
      "execution_count": null,
      "outputs": []
    },
    {
      "cell_type": "code",
      "metadata": {
        "colab": {
          "base_uri": "https://localhost:8080/"
        },
        "id": "3rtiTVH56RHT",
        "outputId": "0d2497ff-3419-42c5-ca26-b07d759ddd39"
      },
      "source": [
        "print(\"Accuracy: {:.2f}%\".format(accuracy_score(data_test.Emotion, predictions) * 100))\r\n",
        "print(\"\\nF1 Score: {:.2f}\".format(f1_score(data_test.Emotion, predictions, average='micro') * 100))"
      ],
      "execution_count": null,
      "outputs": [
        {
          "output_type": "stream",
          "text": [
            "Accuracy: 74.51%\n",
            "\n",
            "F1 Score: 74.51\n"
          ],
          "name": "stdout"
        }
      ]
    },
    {
      "cell_type": "markdown",
      "metadata": {
        "id": "dSgADjOF6V28"
      },
      "source": [
        "**Plotting confusion Matrix: **"
      ]
    },
    {
      "cell_type": "code",
      "metadata": {
        "id": "tjDl6rNp6Za8"
      },
      "source": [
        "def plot_confusion_matrix(y_true, y_pred, classes,\r\n",
        "                          normalize=False,\r\n",
        "                          title=None,\r\n",
        "                          cmap=plt.cm.Greens):\r\n",
        "                          # cmap=plt.cm.Blues):\r\n",
        "    '''\r\n",
        "    This function prints and plots the confusion matrix.\r\n",
        "    Normalization can be applied by setting `normalize=True`.\r\n",
        "    '''\r\n",
        "    if not title:\r\n",
        "        if normalize:\r\n",
        "            title = 'Normalized confusion matrix'\r\n",
        "        else:\r\n",
        "            title = 'Confusion matrix, without normalization'\r\n",
        "\r\n",
        "    # Compute confusion matrix\r\n",
        "    cm = confusion_matrix(y_true, y_pred)\r\n",
        "\r\n",
        "    if normalize:\r\n",
        "        cm = cm.astype('float') / cm.sum(axis=1)[:, np.newaxis]\r\n",
        "\r\n",
        "    fig, ax = plt.subplots()\r\n",
        "    \r\n",
        "    # Set size\r\n",
        "    fig.set_size_inches(12.5, 7.5)\r\n",
        "    im = ax.imshow(cm, interpolation='nearest', cmap=cmap)\r\n",
        "    ax.figure.colorbar(im, ax=ax)\r\n",
        "    ax.grid(False)\r\n",
        "    \r\n",
        "    # We want to show all ticks...\r\n",
        "    ax.set(xticks=np.arange(cm.shape[1]),\r\n",
        "           yticks=np.arange(cm.shape[0]),\r\n",
        "           # ... and label them with the respective list entries\r\n",
        "           xticklabels=classes, yticklabels=classes,\r\n",
        "           title=title,\r\n",
        "           ylabel='True label',\r\n",
        "           xlabel='Predicted label')\r\n",
        "\r\n",
        "    # Rotate the tick labels and set their alignment.\r\n",
        "    plt.setp(ax.get_xticklabels(), rotation=45, ha=\"right\",\r\n",
        "             rotation_mode=\"anchor\")\r\n",
        "\r\n",
        "    # Loop over data dimensions and create text annotations.\r\n",
        "    fmt = '.2f' if normalize else 'd'\r\n",
        "    thresh = cm.max() / 2.\r\n",
        "    for i in range(cm.shape[0]):\r\n",
        "        for j in range(cm.shape[1]):\r\n",
        "            ax.text(j, i, format(cm[i, j], fmt),\r\n",
        "                    ha=\"center\", va=\"center\",\r\n",
        "                    color=\"white\" if cm[i, j] > thresh else \"black\")\r\n",
        "    fig.tight_layout()\r\n",
        "    return ax"
      ],
      "execution_count": null,
      "outputs": []
    },
    {
      "cell_type": "code",
      "metadata": {
        "colab": {
          "base_uri": "https://localhost:8080/",
          "height": 584
        },
        "id": "cF8LrVlo6cGk",
        "outputId": "f9e104fa-d501-489c-c5d9-395e76fcc408"
      },
      "source": [
        "print(\"\\nF1 Score: {:.2f}\".format(f1_score(data_test.Emotion, predictions, average='micro') * 100))\r\n",
        "\r\n",
        "# Plot normalized confusion matrix\r\n",
        "plot_confusion_matrix(data_test.Emotion, predictions, classes=class_names, normalize=True, title='Confusion Matrix - Normalized')\r\n",
        "plt.show()"
      ],
      "execution_count": null,
      "outputs": [
        {
          "output_type": "stream",
          "text": [
            "\n",
            "F1 Score: 74.51\n"
          ],
          "name": "stdout"
        },
        {
          "output_type": "display_data",
          "data": {
            "image/png": "[encoded data removed]",
            "text/plain": [
              "<Figure size 900x540 with 2 Axes>"
            ]
          },
          "metadata": {
            "tags": [],
            "needs_background": "light"
          }
        }
      ]
    },
    {
      "cell_type": "markdown",
      "metadata": {
        "id": "JRz5gXUn6fDN"
      },
      "source": [
        "# Playing with model\r\n"
      ]
    },
    {
      "cell_type": "code",
      "metadata": {
        "colab": {
          "base_uri": "https://localhost:8080/"
        },
        "id": "LjYf5pWC6r9Y",
        "outputId": "85f84ffe-5689-4449-ee41-652125a7f6eb"
      },
      "source": [
        "print('Message: {}\\nPredicted: {}'.format(X_test[20], predictions[20]))"
      ],
      "execution_count": null,
      "outputs": [
        {
          "output_type": "stream",
          "text": [
            "Message: I was very happy when my scholarship to continue studying at university was approved after it had been cancelled.\n",
            "Predicted: joy\n"
          ],
          "name": "stdout"
        }
      ]
    },
    {
      "cell_type": "code",
      "metadata": {
        "colab": {
          "base_uri": "https://localhost:8080/"
        },
        "id": "yDQMdBY_6pxs",
        "outputId": "b8d1cce2-108c-4fef-faae-c30b672bca63"
      },
      "source": [
        "# testing how long each prediction takes\r\n",
        "\r\n",
        "import time\r\n",
        "\r\n",
        "message = [\"I want to kill my self\"]\r\n",
        "# message = [\"I was very happy when my scholarship to continue studying at university was approved after it had been cancelled\"]\r\n",
        "# message = [\"I was very happy when my scholarship to go to flight school was approved after it had been cancelled\"]\r\n",
        "# message = [\"I was very happy when my scholarship to go to flight school was approved after it had been cancelled, but now I'm sad that my dad died and now I just won the lottery so I will celebrate my victory and I am very fucking thrilled about it\"]\r\n",
        "\r\n",
        "\r\n",
        "seq = tokenizer.texts_to_sequences(message)\r\n",
        "padded = pad_sequences(seq, maxlen=max_seq_len)\r\n",
        "\r\n",
        "start_time = time.time()\r\n",
        "pred = model.predict(padded)\r\n",
        "\r\n",
        "print('Message: ' + str(message))\r\n",
        "print('predicted: {} ({:.2f} seconds)'.format(class_names[np.argmax(pred)], (time.time() - start_time)))"
      ],
      "execution_count": null,
      "outputs": [
        {
          "output_type": "stream",
          "text": [
            "Message: ['I want to kill my self']\n",
            "predicted: anger (0.17 seconds)\n"
          ],
          "name": "stdout"
        }
      ]
    },
    {
      "cell_type": "markdown",
      "metadata": {
        "id": "wgBE6KMr6qQV"
      },
      "source": [
        "**Testing input variations with the model**\r\n"
      ]
    },
    {
      "cell_type": "code",
      "metadata": {
        "colab": {
          "base_uri": "https://localhost:8080/"
        },
        "id": "e083B6cW6viE",
        "outputId": "0f92921e-483b-4e82-fd0d-43e05dd9e78e"
      },
      "source": [
        "# testing how long each prediction takes\r\n",
        "\r\n",
        "import time\r\n",
        "\r\n",
        "message1 = [\"I'm having a panic attack\"]\r\n",
        "\r\n",
        "message2 = [\"I was very happy when my scholarship to go to flight school was approved after it had been cancelled, but now I'm sad that my dad died\"]\r\n",
        "message3 = [\"I was very happy when my scholarship to go to flight school was approved after it had been cancelled, but now I'm sad that my dad died and now I just won the lottery so I will celebrate my victory and I am very thrilled about it\"]\r\n",
        "message4 = [\"I was very happy when my scholarship to go to flight school was approved after it had been cancelled, but now I'm sad that my dad died and now I just won the lottery so I will celebrate my victory and I am very thrilled about it but then found out It all goes to my ex wife. I think I'm depressed now\"]\r\n",
        "message5 = [\"I was very happy when my scholarship to go to flight school was approved after it had been cancelled, but now I'm sad that my dad died and now I just won the lottery so I will celebrate my victory and I am very thrilled about it but then found out It all goes to my ex wife. I am super annoyed right now\"]\r\n",
        "# message5 = [\"I was very happy when my scholarship to go to flight school was approved after it had been cancelled, but now I'm sad that my dad died and now I just won the lottery so I will celebrate my victory and I am very thrilled about it but then found out It all goes to my ex wife. I think I'm depressed now, I'm very very angry right now. I'm angry, angry. angry angry very angry, I am sad I am sad I am sad\"]\r\n",
        "\r\n",
        "\r\n",
        "seq1 = tokenizer.texts_to_sequences(message1)\r\n",
        "seq2 = tokenizer.texts_to_sequences(message2)\r\n",
        "seq3 = tokenizer.texts_to_sequences(message3)\r\n",
        "seq4 = tokenizer.texts_to_sequences(message4)\r\n",
        "seq5 = tokenizer.texts_to_sequences(message5)\r\n",
        "\r\n",
        "padded1 = pad_sequences(seq1, maxlen=max_seq_len)\r\n",
        "padded2 = pad_sequences(seq2, maxlen=max_seq_len)\r\n",
        "padded3 = pad_sequences(seq3, maxlen=max_seq_len)\r\n",
        "padded4 = pad_sequences(seq4, maxlen=max_seq_len)\r\n",
        "padded5 = pad_sequences(seq5, maxlen=max_seq_len)\r\n",
        "\r\n",
        "# prediction 1\r\n",
        "start_time1 = time.time()\r\n",
        "prediction1 = model.predict(padded1)\r\n",
        "# prediction 2\r\n",
        "start_time2 = time.time()\r\n",
        "prediction2 = model.predict(padded2)\r\n",
        "# prediction 3\r\n",
        "start_time3 = time.time()\r\n",
        "prediction3 = model.predict(padded3)\r\n",
        "# prediction 4\r\n",
        "start_time4 = time.time()\r\n",
        "prediction4 = model.predict(padded4)\r\n",
        "# prediction 5\r\n",
        "start_time5 = time.time()\r\n",
        "prediction5 = model.predict(padded5)\r\n",
        "\r\n",
        "print('Message-1: ' + str(message1))\r\n",
        "print('prediction-1: {} ({:.2f} seconds)'.format(class_names[np.argmax(prediction1)], (time.time() - start_time1)))\r\n",
        "print('')\r\n",
        "\r\n",
        "print('Message-2: ' + str(message2))\r\n",
        "print('prediction-2: {} ({:.2f} seconds)'.format(class_names[np.argmax(prediction2)], (time.time() - start_time2)))\r\n",
        "print('')\r\n",
        "\r\n",
        "print('Message-3: ' + str(message3))\r\n",
        "print('prediction-3: {} ({:.2f} seconds)'.format(class_names[np.argmax(prediction3)], (time.time() - start_time3)))\r\n",
        "print('')\r\n",
        "\r\n",
        "print('Message-4: ' + str(message4))\r\n",
        "print('prediction-4: {} ({:.2f} seconds)'.format(class_names[np.argmax(prediction4)], (time.time() - start_time4)))\r\n",
        "print('')\r\n",
        "\r\n",
        "print('Message-5: ' + str(message5))\r\n",
        "print('prediction-5: {} ({:.2f} seconds)'.format(class_names[np.argmax(prediction5)], (time.time() - start_time5)))"
      ],
      "execution_count": null,
      "outputs": [
        {
          "output_type": "stream",
          "text": [
            "Message-1: [\"I'm having a panic attack\"]\n",
            "prediction-1: fear (0.76 seconds)\n",
            "\n",
            "Message-2: [\"I was very happy when my scholarship to go to flight school was approved after it had been cancelled, but now I'm sad that my dad died\"]\n",
            "prediction-2: sadness (0.61 seconds)\n",
            "\n",
            "Message-3: [\"I was very happy when my scholarship to go to flight school was approved after it had been cancelled, but now I'm sad that my dad died and now I just won the lottery so I will celebrate my victory and I am very thrilled about it\"]\n",
            "prediction-3: joy (0.46 seconds)\n",
            "\n",
            "Message-4: [\"I was very happy when my scholarship to go to flight school was approved after it had been cancelled, but now I'm sad that my dad died and now I just won the lottery so I will celebrate my victory and I am very thrilled about it but then found out It all goes to my ex wife. I think I'm depressed now\"]\n",
            "prediction-4: sadness (0.31 seconds)\n",
            "\n",
            "Message-5: [\"I was very happy when my scholarship to go to flight school was approved after it had been cancelled, but now I'm sad that my dad died and now I just won the lottery so I will celebrate my victory and I am very thrilled about it but then found out It all goes to my ex wife. I am super annoyed right now\"]\n",
            "prediction-5: anger (0.15 seconds)\n"
          ],
          "name": "stdout"
        }
      ]
    },
    {
      "cell_type": "code",
      "metadata": {
        "id": "KdtGFnlY6pQ1"
      },
      "source": [
        ""
      ],
      "execution_count": null,
      "outputs": []
    },
    {
      "cell_type": "markdown",
      "metadata": {
        "id": "Hq9DB1b_fpKi"
      },
      "source": [
        "# Saving Model - version 2 with 30 epochs\r\n",
        "\r\n",
        "saving the model in hierarchical data format - h5 so we can load it later\r\n",
        "\r\n"
      ]
    },
    {
      "cell_type": "code",
      "metadata": {
        "colab": {
          "base_uri": "https://localhost:8080/"
        },
        "id": "uSpwwjdzeWID",
        "outputId": "7ce832dd-c71a-4c25-d019-40459fa3e916"
      },
      "source": [
        "# v2 save\r\n",
        "\r\n",
        "model.save('/content/drive/Emotion_Analysis/models/bi_gru_w2vec_v2_30eps.h5')\r\n",
        "print(\"Saved model to disk\")"
      ],
      "execution_count": null,
      "outputs": [
        {
          "output_type": "stream",
          "text": [
            "Saved model to disk\n"
          ],
          "name": "stdout"
        }
      ]
    },
    {
      "cell_type": "code",
      "metadata": {
        "id": "5AAYWqjti4d2"
      },
      "source": [
        "# v2 load\r\n",
        "\r\n",
        "from keras.models import load_model\r\n",
        "loaded_model_v2 = load_model('/content/drive/Emotion_Analysis/models/bi_gru_w2vec_v2_30eps.h5')"
      ],
      "execution_count": null,
      "outputs": []
    },
    {
      "cell_type": "markdown",
      "metadata": {
        "id": "zwuP7lYEjf4L"
      },
      "source": [
        "# Using Saved Model\r\n",
        "\r\n",
        "v2 with 30 epochs\r\n",
        "\r\n"
      ]
    },
    {
      "cell_type": "code",
      "metadata": {
        "colab": {
          "base_uri": "https://localhost:8080/"
        },
        "id": "GyE_FArslmia",
        "outputId": "1265cf45-cf96-4108-bf72-ef2ca2e62a48"
      },
      "source": [
        "import time\r\n",
        "\r\n",
        "# message = [\"I was very happy when my scholarship to continue studying at university was approved after it had been cancelled\"]\r\n",
        "# message = [\"I was very happy when my scholarship to go to flight school was approved after it had been cancelled\"]\r\n",
        "message = [\"I was very happy when my scholarship to go to flight school was approved after it had been cancelled, but now I'm sad that my dad died\"]\r\n",
        "\r\n",
        "\r\n",
        "seq = tokenizer.texts_to_sequences(message)\r\n",
        "padded = pad_sequences(seq, maxlen=max_seq_len)\r\n",
        "\r\n",
        "start_time = time.time()\r\n",
        "pred1 = model.predict(padded)\r\n",
        "\r\n",
        "print('Message: ' + str(message))\r\n",
        "print('predicted: {} ({:.2f} seconds)'.format(class_names[np.argmax(pred)], (time.time() - start_time)))"
      ],
      "execution_count": null,
      "outputs": [
        {
          "output_type": "stream",
          "text": [
            "Message: [\"I was very happy when my scholarship to go to flight school was approved after it had been cancelled, but now I'm sad that my dad died\"]\n",
            "predicted: anger (0.17 seconds)\n"
          ],
          "name": "stdout"
        }
      ]
    },
    {
      "cell_type": "code",
      "metadata": {
        "colab": {
          "base_uri": "https://localhost:8080/"
        },
        "id": "g8KJ-43q-vD7",
        "outputId": "3642306a-a7a8-488f-a042-cec22f5092e3"
      },
      "source": [
        "# testing how long each prediction takes\r\n",
        "\r\n",
        "import time\r\n",
        "\r\n",
        "message1 = [\"I was very happy when my scholarship to go to flight school was approved after it had been cancelled\"]\r\n",
        "message2 = [\"I was very happy when my scholarship to go to flight school was approved after it had been cancelled, but now I'm sad that my dad died\"]\r\n",
        "message3 = [\"I was very happy when my scholarship to go to flight school was approved after it had been cancelled, but now I'm sad that my dad died and now I just won the lottery so I will celebrate my victory and I am very thrilled about it\"]\r\n",
        "message4 = [\"I was very happy when my scholarship to go to flight school was approved after it had been cancelled, but now I'm sad that my dad died and now I just won the lottery so I will celebrate my victory and I am very thrilled about it but then found out It all goes to my ex wife. I think I'm depressed now\"]\r\n",
        "message5 = [\"I was very happy when my scholarship to go to flight school was approved after it had been cancelled, but now I'm sad that my dad died and now I just won the lottery so I will celebrate my victory and I am very thrilled about it but then found out It all goes to my ex wife. I am super annoyed right now\"]\r\n",
        "\r\n",
        "seq1 = tokenizer.texts_to_sequences(message1)\r\n",
        "seq2 = tokenizer.texts_to_sequences(message2)\r\n",
        "seq3 = tokenizer.texts_to_sequences(message3)\r\n",
        "seq4 = tokenizer.texts_to_sequences(message4)\r\n",
        "seq5 = tokenizer.texts_to_sequences(message5)\r\n",
        "\r\n",
        "padded1 = pad_sequences(seq1, maxlen=max_seq_len)\r\n",
        "padded2 = pad_sequences(seq2, maxlen=max_seq_len)\r\n",
        "padded3 = pad_sequences(seq3, maxlen=max_seq_len)\r\n",
        "padded4 = pad_sequences(seq4, maxlen=max_seq_len)\r\n",
        "padded5 = pad_sequences(seq5, maxlen=max_seq_len)\r\n",
        "\r\n",
        "# prediction 1\r\n",
        "start_time1 = time.time()\r\n",
        "prediction1 = loaded_model_v2.predict(padded1)\r\n",
        "# prediction 2\r\n",
        "start_time2 = time.time()\r\n",
        "prediction2 = loaded_model_v2.predict(padded2)\r\n",
        "# prediction 3\r\n",
        "start_time3 = time.time()\r\n",
        "prediction3 = loaded_model_v2.predict(padded3)\r\n",
        "# prediction 4\r\n",
        "start_time4 = time.time()\r\n",
        "prediction4 = loaded_model_v2.predict(padded4)\r\n",
        "# prediction 5\r\n",
        "start_time5 = time.time()\r\n",
        "prediction5 = loaded_model_v2.predict(padded5)\r\n",
        "\r\n",
        "print('Message-1: ' + str(message1))\r\n",
        "print('prediction-1: {} ({:.2f} seconds)'.format(class_names[np.argmax(prediction1)], (time.time() - start_time1)))\r\n",
        "print('')\r\n",
        "\r\n",
        "print('Message-2: ' + str(message2))\r\n",
        "print('prediction-2: {} ({:.2f} seconds)'.format(class_names[np.argmax(prediction2)], (time.time() - start_time2)))\r\n",
        "print('')\r\n",
        "\r\n",
        "print('Message-3: ' + str(message3))\r\n",
        "print('prediction-3: {} ({:.2f} seconds)'.format(class_names[np.argmax(prediction3)], (time.time() - start_time3)))\r\n",
        "print('')\r\n",
        "\r\n",
        "print('Message-4: ' + str(message4))\r\n",
        "print('prediction-4: {} ({:.2f} seconds)'.format(class_names[np.argmax(prediction4)], (time.time() - start_time4)))\r\n",
        "print('')\r\n",
        "\r\n",
        "print('Message-5: ' + str(message5))\r\n",
        "print('prediction-5: {} ({:.2f} seconds)'.format(class_names[np.argmax(prediction5)], (time.time() - start_time5)))"
      ],
      "execution_count": null,
      "outputs": [
        {
          "output_type": "stream",
          "text": [
            "Message-1: ['I was very happy when my scholarship to go to flight school was approved after it had been cancelled']\n",
            "prediction-1: joy (0.77 seconds)\n",
            "\n",
            "Message-2: [\"I was very happy when my scholarship to go to flight school was approved after it had been cancelled, but now I'm sad that my dad died\"]\n",
            "prediction-2: sadness (0.62 seconds)\n",
            "\n",
            "Message-3: [\"I was very happy when my scholarship to go to flight school was approved after it had been cancelled, but now I'm sad that my dad died and now I just won the lottery so I will celebrate my victory and I am very thrilled about it\"]\n",
            "prediction-3: joy (0.46 seconds)\n",
            "\n",
            "Message-4: [\"I was very happy when my scholarship to go to flight school was approved after it had been cancelled, but now I'm sad that my dad died and now I just won the lottery so I will celebrate my victory and I am very thrilled about it but then found out It all goes to my ex wife. I think I'm depressed now\"]\n",
            "prediction-4: sadness (0.30 seconds)\n",
            "\n",
            "Message-5: [\"I was very happy when my scholarship to go to flight school was approved after it had been cancelled, but now I'm sad that my dad died and now I just won the lottery so I will celebrate my victory and I am very thrilled about it but then found out It all goes to my ex wife. I am super annoyed right now\"]\n",
            "prediction-5: anger (0.15 seconds)\n"
          ],
          "name": "stdout"
        }
      ]
    },
    {
      "cell_type": "markdown",
      "metadata": {
        "id": "_NDBi4UEuyjA"
      },
      "source": [
        "---\r\n",
        "---\r\n",
        "---\r\n",
        "---\r\n",
        "---\r\n",
        "---\r\n",
        "---\r\n",
        "---\r\n",
        "---\r\n",
        "---\r\n",
        "---\r\n",
        "---\r\n",
        "---\r\n",
        "---\r\n",
        "---\r\n",
        "---\r\n",
        "---\r\n",
        "---\r\n",
        "---\r\n",
        "---\r\n",
        "---\r\n",
        "---\r\n",
        "---\r\n",
        "---\r\n",
        "---\r\n",
        "# my matplotlib experiments\r\n",
        "\r\n",
        "---\r\n",
        "---\r\n",
        "---\r\n",
        "---\r\n",
        "---\r\n",
        "---\r\n",
        "---\r\n",
        "---\r\n",
        "---\r\n",
        "---\r\n",
        "---\r\n",
        "---\r\n",
        "---\r\n",
        "---\r\n",
        "---\r\n",
        "---\r\n",
        "---\r\n",
        "---\r\n",
        "---\r\n",
        "---\r\n",
        "---\r\n",
        "---\r\n",
        "---\r\n",
        "---\r\n",
        "---\r\n",
        "\r\n",
        "\r\n"
      ]
    },
    {
      "cell_type": "code",
      "metadata": {
        "id": "G5Z0yMqMux-p"
      },
      "source": [
        "apl_price = [93.95, 112.15, 104.05, 144.85, 169.49]\r\n",
        "ms_price = [39.01, 50.29, 57.05, 69.98, 94.39]\r\n",
        "year = [2014, 2015, 2016, 2017, 2018]"
      ],
      "execution_count": null,
      "outputs": []
    },
    {
      "cell_type": "code",
      "metadata": {
        "colab": {
          "base_uri": "https://localhost:8080/",
          "height": 278
        },
        "id": "BqRKw1S1vu4y",
        "outputId": "dc3317b4-a3bd-4911-fcd8-c8dfdb3cd315"
      },
      "source": [
        "plt.plot(year, apl_price, '--k' ,year, ms_price, ':g')\r\n",
        "\r\n",
        "plt.xlabel('Year')\r\n",
        "plt.ylabel('Stock Price')\r\n",
        "# plt.fill_between(apl_price, ms_price)\r\n",
        "plt.show()\r\n"
      ],
      "execution_count": null,
      "outputs": [
        {
          "output_type": "display_data",
          "data": {
            "image/png": "[encoded data removed]",
            "text/plain": [
              "<Figure size 432x288 with 1 Axes>"
            ]
          },
          "metadata": {
            "tags": [],
            "needs_background": "light"
          }
        }
      ]
    },
    {
      "cell_type": "code",
      "metadata": {
        "colab": {
          "base_uri": "https://localhost:8080/",
          "height": 313
        },
        "id": "uRm4zHWewdIS",
        "outputId": "c70d8c3b-777e-493b-8c59-96ed0d02bb21"
      },
      "source": [
        "fig_1 = plt.figure(1, figsize=(20, 4.8))\r\n",
        "chart_1 = fig_1.add_subplot(121)\r\n",
        "chart_2 = fig_1.add_subplot(122)"
      ],
      "execution_count": null,
      "outputs": [
        {
          "output_type": "display_data",
          "data": {
            "image/png": "[encoded data removed]",
            "text/plain": [
              "<Figure size 1440x345.6 with 2 Axes>"
            ]
          },
          "metadata": {
            "tags": [],
            "needs_background": "light"
          }
        }
      ]
    },
    {
      "cell_type": "code",
      "metadata": {
        "colab": {
          "base_uri": "https://localhost:8080/",
          "height": 238
        },
        "id": "fC9fzcKq1DCL",
        "outputId": "f5725b23-99b9-4190-a6e8-39a74f8c85e4"
      },
      "source": [
        "import time\r\n",
        "\r\n",
        "count = 0\r\n",
        "while (count != 180):\r\n",
        "  time.sleep(60)  \r\n",
        "  print('minute: ',count)\r\n",
        "  count=count+1\r\n",
        "print('total time: ', count/60, 'hours | ', count, ' minutes in total' )\r\n",
        "\r\n"
      ],
      "execution_count": null,
      "outputs": [
        {
          "output_type": "error",
          "ename": "KeyboardInterrupt",
          "evalue": "ignored",
          "traceback": [
            "\u001b[0;31m---------------------------------------------------------------------------\u001b[0m",
            "\u001b[0;31mKeyboardInterrupt\u001b[0m                         Traceback (most recent call last)",
            "\u001b[0;32m<ipython-input-1-24222f0a7623>\u001b[0m in \u001b[0;36m<module>\u001b[0;34m()\u001b[0m\n\u001b[1;32m      3\u001b[0m \u001b[0mcount\u001b[0m \u001b[0;34m=\u001b[0m \u001b[0;36m0\u001b[0m\u001b[0;34m\u001b[0m\u001b[0;34m\u001b[0m\u001b[0m\n\u001b[1;32m      4\u001b[0m \u001b[0;32mwhile\u001b[0m \u001b[0;34m(\u001b[0m\u001b[0mcount\u001b[0m \u001b[0;34m!=\u001b[0m \u001b[0;36m180\u001b[0m\u001b[0;34m)\u001b[0m\u001b[0;34m:\u001b[0m\u001b[0;34m\u001b[0m\u001b[0;34m\u001b[0m\u001b[0m\n\u001b[0;32m----> 5\u001b[0;31m   \u001b[0mtime\u001b[0m\u001b[0;34m.\u001b[0m\u001b[0msleep\u001b[0m\u001b[0;34m(\u001b[0m\u001b[0;36m60\u001b[0m\u001b[0;34m)\u001b[0m\u001b[0;34m\u001b[0m\u001b[0;34m\u001b[0m\u001b[0m\n\u001b[0m\u001b[1;32m      6\u001b[0m   \u001b[0mprint\u001b[0m\u001b[0;34m(\u001b[0m\u001b[0;34m'minute: '\u001b[0m\u001b[0;34m,\u001b[0m\u001b[0mcount\u001b[0m\u001b[0;34m)\u001b[0m\u001b[0;34m\u001b[0m\u001b[0;34m\u001b[0m\u001b[0m\n\u001b[1;32m      7\u001b[0m   \u001b[0mcount\u001b[0m\u001b[0;34m=\u001b[0m\u001b[0mcount\u001b[0m\u001b[0;34m+\u001b[0m\u001b[0;36m1\u001b[0m\u001b[0;34m\u001b[0m\u001b[0;34m\u001b[0m\u001b[0m\n",
            "\u001b[0;31mKeyboardInterrupt\u001b[0m: "
          ]
        }
      ]
    }
  ]
}