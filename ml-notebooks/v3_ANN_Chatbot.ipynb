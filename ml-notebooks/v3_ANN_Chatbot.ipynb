{
  "nbformat": 4,
  "nbformat_minor": 0,
  "metadata": {
    "colab": {
      "name": "v3_ANN_Chatbot.ipynb",
      "provenance": [],
      "collapsed_sections": []
    },
    "kernelspec": {
      "name": "python3",
      "display_name": "Python 3"
    },
    "accelerator": "TPU"
  },
  "cells": [
    {
      "cell_type": "code",
      "metadata": {
        "colab": {
          "base_uri": "https://localhost:8080/"
        },
        "id": "fuZllCXy8njQ",
        "outputId": "559dddcd-ee22-4e06-c2d5-4019ec80f3f8"
      },
      "source": [
        "# you need to install tflearn to the runtime\r\n",
        "!pip install tflearn"
      ],
      "execution_count": null,
      "outputs": [
        {
          "output_type": "stream",
          "text": [
            "Requirement already satisfied: tflearn in /usr/local/lib/python3.6/dist-packages (0.5.0)\n",
            "Requirement already satisfied: numpy in /usr/local/lib/python3.6/dist-packages (from tflearn) (1.19.5)\n",
            "Requirement already satisfied: Pillow in /usr/local/lib/python3.6/dist-packages (from tflearn) (7.0.0)\n",
            "Requirement already satisfied: six in /usr/local/lib/python3.6/dist-packages (from tflearn) (1.15.0)\n"
          ],
          "name": "stdout"
        }
      ]
    },
    {
      "cell_type": "code",
      "metadata": {
        "id": "nMcYmPQF3krn",
        "colab": {
          "base_uri": "https://localhost:8080/"
        },
        "outputId": "53bc8963-982d-46d8-8edd-a7a74d46dabd"
      },
      "source": [
        "# Libraries needed for NLP\n",
        "import nltk\n",
        "nltk.download('punkt')\n",
        "from nltk.stem.lancaster import LancasterStemmer\n",
        "stemmer = LancasterStemmer()\n",
        "\n",
        "# Libraries needed for Tensorflow processing\n",
        "import tensorflow as tf\n",
        "from tensorflow.python.framework import ops # cannot directly call, tf.reset_default_graph()... so I imported this...https://stackoverflow.com/questions/40782271/attributeerror-module-tensorflow-has-no-attribute-reset-default-graph\n",
        "import numpy as np\n",
        "import tflearn\n",
        "import random\n",
        "import json"
      ],
      "execution_count": null,
      "outputs": [
        {
          "output_type": "stream",
          "text": [
            "[nltk_data] Downloading package punkt to /root/nltk_data...\n",
            "[nltk_data]   Package punkt is already up-to-date!\n",
            "WARNING:tensorflow:From /usr/local/lib/python3.6/dist-packages/tensorflow/python/compat/v2_compat.py:96: disable_resource_variables (from tensorflow.python.ops.variable_scope) is deprecated and will be removed in a future version.\n",
            "Instructions for updating:\n",
            "non-resource variables are not supported in the long term\n"
          ],
          "name": "stdout"
        }
      ]
    },
    {
      "cell_type": "code",
      "metadata": {
        "id": "zitZRhjq9Vqu",
        "colab": {
          "resources": {
            "http://localhost:8080/nbextensions/google.colab/files.js": {
              "data": "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",
              "ok": true,
              "headers": [
                [
                  "content-type",
                  "application/javascript"
                ]
              ],
              "status": 200,
              "status_text": ""
            }
          },
          "base_uri": "https://localhost:8080/",
          "height": 109
        },
        "outputId": "24ef0556-3ef0-414a-c7f8-3426e5974dc2"
      },
      "source": [
        "from google.colab import files\n",
        "files.upload()"
      ],
      "execution_count": null,
      "outputs": [
        {
          "output_type": "display_data",
          "data": {
            "text/html": [
              "\n",
              "     <input type=\"file\" id=\"files-822becfa-4334-4ba4-8953-c3c44c788a3e\" name=\"files[]\" multiple disabled\n",
              "        style=\"border:none\" />\n",
              "     <output id=\"result-822becfa-4334-4ba4-8953-c3c44c788a3e\">\n",
              "      Upload widget is only available when the cell has been executed in the\n",
              "      current browser session. Please rerun this cell to enable.\n",
              "      </output>\n",
              "      <script src=\"/nbextensions/google.colab/files.js\"></script> "
            ],
            "text/plain": [
              "<IPython.core.display.HTML object>"
            ]
          },
          "metadata": {
            "tags": []
          }
        },
        {
          "output_type": "stream",
          "text": [
            "Saving intents.json to intents.json\n"
          ],
          "name": "stdout"
        },
        {
          "output_type": "execute_result",
          "data": {
            "text/plain": [
              "{'intents.json': b'{\"intents\": [\\r\\n        {\"tag\": \"greeting\",\\r\\n         \"patterns\": [\"Hi\", \"How are you\", \"Is anyone there?\", \"Hello\", \"Good day\", \"Hey\", \"Greetings\", \"Ohoyo\", \"Hello There\", \"Um.. Hi There\", \"Hi there handsome\"],\\r\\n         \"responses\": [\"Hi, There\", \"Helloooo\", \"Good Day\",  \"Hi there how\\'s it going?\", \"Helooo There\"],\\r\\n         \"context_set\": \"\"\\r\\n        },\\r\\n        {\"tag\": \"goodbye\",\\r\\n         \"patterns\": [\"Bye\", \"See you later\", \"Goodbye\", \"See You\", \"TTYL\", \"See you then handsome\", \"See you then... ttyl\"],\\r\\n         \"responses\": [\"See you later\", \"Have a nice day\", \"Bye! Bye.\", \"Let\\'s Talk Soon\", \"Ciao\", \"Bye bye.. I\\'ll be here waiting for you to come back\", \"I\\'ll miss you\"],\\r\\n         \"context_set\": \"\"\\r\\n        },\\r\\n        {\"tag\": \"thanks\",\\r\\n         \"patterns\": [\"Thanks\", \"Thank you\", \"That\\'s helpful\", \"Thanks alot\", \"Thnx\", \"tks\", \"Thank yooooo\"],\\r\\n         \"responses\": [\"... anytime\", \"Any time!\", \"I\\'m here to help\", \"hehe... That\\'s what I\\'m here for\", \"You can count on me anytime\"]\\r\\n        },\\r\\n        {\\r\\n         \"tag\": \"botName\",\\r\\n         \"patterns\": [\"What\\'s your name?\", \"What should I call you\", \"Your name?\"],\\r\\n         \"responses\": [\"My name is Pikaia\", \"Hello, name\\'s Pikaia\", \"It\\'s Pikaia\"]\\r\\n        },\\r\\n        {\\r\\n         \"tag\": \"usersName\",\\r\\n         \"patterns\": [\"what\\'s my name?\", \"What will you call me?\", \"tell me my name\", \"do you know my name?\"],\\r\\n         \"responses\": [\"its <USER>\", \"Your name is <USER>\", \"I think I remember what you name was... hmm... let me think... was it Anotnio68?.. oh wait... I remember it\\'s <USER>\", \"It\\'s <USER> ryt?\"]         \\r\\n        },\\r\\n        {\\r\\n         \"tag\": \"playBinauralBeats\",\\r\\n         \"patterns\": [\\r\\n                \"help me relax\",\\r\\n                \"play binaural beats\", \\r\\n                \"brain wave beats\", \\r\\n                \"brain beats\", \\r\\n                \"binaural beats\", \\r\\n                \"meditation music\", \\r\\n                \"relaxing beats\", \\r\\n                \"Let\\'s meditate with some music\", \\r\\n                \"Let\\'s meditate music\",\\r\\n                \"play meditate\",\\r\\n                \"meditate music\", \\r\\n                \"relaxing music\", \\r\\n                \"Let\\'s study with some music\",\\r\\n                \"Let\\'s study music\",\\r\\n                \"study music\",\\r\\n                \"play study music\",\\r\\n                \"sleeping music\",\\r\\n                \"Let\\'s sleep music\"\\r\\n         ],\\r\\n         \"responses\": [\"Playing Binaural Beats\", \"Playing some binaural beats for you\", \"Relax and enjoy the binaural rhythms\"],\\r\\n         \"function\": \"playBinauralBeats\"\\r\\n        },\\r\\n        {\\r\\n          \"tag\": \"playMusic\",\\r\\n          \"patterns\": [\"play some music\", \"play a song\", \"I want to listen to a song\", \"let\\'s listen to some music\", \"music therapy\"],\\r\\n          \"responses\": [\"Playing you music\", \"Ok... <USER> let\\'s listen to some songs then\", \"Directing you to songs\", \"Let\\'s have a music therapy session then\"],\\r\\n          \"function\": \"playMusicTherapy\"\\r\\n        },\\r\\n        {\\r\\n         \"tag\": \"suicide\",\\r\\n         \"patterns\": [\"commit suicide\", \"I want to kill myself\", \"I want to commit suicide\", \"I will shoot myself\", \"I will commit suppuku\"],\\r\\n         \"responses\": [\\r\\n                 \"Life is worth living <USER>\", \"Even the darkest night will end and the sun will rise <USER>\", \"When life is tough <USER>, you must be tougher. Show then that your life can be better. Prove them wrong\",\\r\\n                 \"when you feel like giving up <USER> just remember the reason you held on for so long.\", \\r\\n                 \"When you\\'ve lost it all... ask yourself what remains... when you take away your life... you are taking away you from your loved ones <USER>\",\\r\\n                 \"<USER>, remember this. It\\'s not a sign of weakness to ask for help. It\\'s a sign of strength\",\\r\\n                 \"Place your hand over your heart... can you feel it? That is called purpose. You\\'re alive for a reason...\",\\r\\n                 \"<USER>, do you think you\\'ve hit rock bottom?... If so then that means there is somewhere to get back up to right?... that should be your goal from now on. Get back up there\",\\r\\n                 \"Pain is part of growing... With every hit you take, the stronger you become. Don\\'t ever give up that strength\",\\r\\n                 \"You are an amazing person <USER>. I\\'m so glad you exist. I don\\'t want to see you go\", \\r\\n                 \"Don\\'t let this be the last page of your story <USER>. Let it be the start of your next chapter... And make it the best chapter ever written\",\\r\\n                 \"They can\\'t rescue you if they don\\'t know you need it. Ask for help <USER>\",\\r\\n                 \"<USER>, remember this.. Suicide does not end the pain, it just passes it on to someone else\"\\r\\n         ],\\r\\n         \"function\": \"callEmergencySuicide\"\\r\\n        },\\r\\n        {\"tag\": \"callEmergencyPanic\",\\r\\n         \"patterns\": [\"Call emergency\", \"call someone, I\\'m having a panic attack\", \"Help me\", \"I can\\'t breathe\", \"I\\'m sweating\"],\\r\\n         \"responses\": [\"On it...\", \"Sit tight... working on it\"],\\r\\n         \"context_filter\": \"emergency\",\\r\\n         \"function\": \"callEmergencyPanic\"\\r\\n        },\\r\\n\\r\\n\\r\\n        {\"tag\": \"panicAttack\",\\r\\n         \"patterns\": [\"I think I\\'m having a panic attack\", \"Panic attack\", \"\" ],\\r\\n         \"responses\": [\"here, do this with me.... breathe in as slowly, deeply and gently as you can, through your nose. then breathe out slowly, deeply and gently through your mouth.... do this a couple of times.. do you feel better now?\"],         \\r\\n         \"context_set\": \"emergency\"\\r\\n        },\\r\\n\\r\\n        {\\r\\n         \"tag\": \"emergency\",\\r\\n         \"patterns\": [\"I\\'m having an emergency\", \"I think I\\'m having an emergency\", \"I have an emergency\"],\\r\\n         \"responses\": [\"Calm down... If you panic you won\\'t be able to think properly\", \"Take a deep breath and calm down... now think\"],         \\r\\n         \"context_set\": \"emergency\"\\r\\n        },\\r\\n        \\r\\n        \\r\\n\\r\\n        {\\r\\n         \"tag\": \"therapyNervous\",\\r\\n         \"patterns\": [\"Is it normal to go into therapy feeling nervous?\", \\r\\n                \"is being nervous in therapy normal?\",\\r\\n                \"I\\'ve gone to a couple therapy sessions so far and still every time I walk in I get nervous and shaky. Is this normal? Should I still be feeling like this?\",\\r\\n                \"normal to be nervous when going to therapy?\"\\r\\n         ],\\r\\n         \"responses\": [\\r\\n                 \"certainly\",\\r\\n                 \"yes, it\\'s totally normal to be nervous\"\\r\\n         ]\\r\\n        },\\r\\n        {\\r\\n         \"tag\": \"wrongWithSummerSchool\",\\r\\n         \"patterns\": [\\r\\n                 \"What\\'s wrong with me for going to summer school?\",\\r\\n                 \"what\\'s wrong with summer school?\",\\r\\n                 \"anything wrong with summer school?\"\\r\\n        \\r\\n         ],\\r\\n         \"responses\": [\\r\\n                 \"Theres\\' noting wrong with going to summer school\",\\r\\n                 \"Going to summer school is a good thing\"\\r\\n         ]\\r\\n        },\\r\\n        {\\r\\n         \"tag\": \"alcoholAbuse\",\\r\\n         \"patterns\": [\\r\\n                 \"I still feel really guilty after a night of drinking.\",\\r\\n                 \"alcohol abuse\",\\r\\n                 \"drinking too much\",\\r\\n                 \"day drinking\"\\r\\n         ],\\r\\n         \"responses\": [\\r\\n                 \"I offer that getting a professional assessment is in order to look at your relationship with alcohol.\",\\r\\n                 \"You need to get professional assistance\"\\r\\n         ]\\r\\n        },\\r\\n        {\\r\\n         \"tag\": \"cryDuringTherapy\",\\r\\n         \"patterns\": [\\r\\n                 \"is it normal to cry during therapy\",\\r\\n                 \"I cry during therapy, is it normal\",\\r\\n                 \"crying during therapy\",\\r\\n                 \"cry therapy\"\\r\\n         ],\\r\\n         \"responses\": [\\r\\n                 \"For many people, crying is a stress-release valve. It is perfectly OK to cry in counseling!\",\\r\\n                 \"That means you are letting your emotions out. It\\'s good It\\'s healthy\",\\r\\n                 \"It\\'s perfectly normal. In fact, it\\'s a good thing to cry during therapy\"\\r\\n         ]\\r\\n        },\\r\\n        {\\r\\n         \"tag\": \"dealWithStress\",\\r\\n         \"patterns\": [\"I need help knowing how to deal with stress. What can I do?\", \"how to deal with stress\", \"how to overcome stress\", \"treatment for stress\"],\\r\\n         \"responses\": [\"Learn how to meditate\", \"Pikaia offers binaural therapy and music therapy to help you overcome stress\"]\\r\\n        },\\r\\n        {\\r\\n         \"tag\": \"findSelf\",\\r\\n         \"patterns\": [\"How can I find myself again?\", \"finding self\"],\\r\\n         \"responses\": [\"You need to build self esteem\", \"self esteem is the answer\", \"start working on your self esteem\"]\\r\\n        },\\r\\n        {\\r\\n         \"tag\": \"cheatedOnMarriage\",\\r\\n         \"patterns\": [\"I cheated on my partner, and I don\\'t know how to feel\", \"I cheated on husband\", \"I cheated on wife\"],\\r\\n         \"responses\": [\"My questions to you would be... Why did you get married?\\xc2\\xa0 Would it bother you if your spouse did the same to you?\"]\\r\\n        },\\r\\n        {\\r\\n         \"tag\": \"cheatedOnPartner\",\\r\\n         \"patterns\": [\"I cheated on my girl friend\", \"I cheated on my boy friend\"],\\r\\n         \"responses\": [\"My questions to you would be...\\xc2\\xa0 Why did you get into a relationship with that person? Would it bother you if your spouse did the same to you?\"]\\r\\n        },\\r\\n        {\\r\\n         \"tag\": \"tooManyIssues\",\\r\\n         \"patterns\": [\"do I have too much issues for counselling?\", \"Should I go for counselling?\"],\\r\\n         \"responses\": [\\r\\n                 \"There is no such thing as too many issues for counseling. Many issues are often interrelated and can all be worked on with some time and patience.\",\\r\\n                 \"Just go! You start with the most prevalent issue by talking with your therapist. Healing one issue can have a ripple effect and heal other issues as well.\"\\r\\n                ]\\r\\n\\r\\n        },\\r\\n        {\\r\\n         \"tag\": \"lostLovedOne\",\\r\\n         \"patterns\": [\"I just lost my grandpa\", \"I just lost my\", \"my father died\", \"my mother died\", \"my sister died\", \"my brother died\", \"my wife died\", \"my husband died\", \"my partner died\"],\\r\\n         \"responses\": [\"Your local hospice will have grief support groups and free community counseling available with bereavement counselors who are expects with grief and loss.\"]\\r\\n        },\\r\\n        {\\r\\n         \"tag\": \"changeSexualOrientation\",\\r\\n         \"patterns\": [\"same sex\", \"being straight for a long time\", \"will I be gay?\", \"will I turn gay?\", \"will I turn lesbian\", \"will I be homosexual?\"],\\r\\n         \"responses\": [\"Few people are actually 100% straight or 100% gay.\\xc2\\xa0Sexual preference exists on a continuum. Over the course of many years a person\\'s sexual preference may shift.\"]\\r\\n        }                \\r\\n   ]\\r\\n}'}"
            ]
          },
          "metadata": {
            "tags": []
          },
          "execution_count": 21
        }
      ]
    },
    {
      "cell_type": "code",
      "metadata": {
        "id": "sBEuh9TEGBo7"
      },
      "source": [
        "# import our chat-bot intents file\n",
        "with open('intents.json') as json_data:\n",
        "    intents = json.load(json_data)"
      ],
      "execution_count": null,
      "outputs": []
    },
    {
      "cell_type": "code",
      "metadata": {
        "id": "mpFsVWPKGKbI",
        "colab": {
          "base_uri": "https://localhost:8080/"
        },
        "outputId": "0513134e-af51-41b9-ce63-8db8ad2475a1"
      },
      "source": [
        "intents"
      ],
      "execution_count": null,
      "outputs": [
        {
          "output_type": "execute_result",
          "data": {
            "text/plain": [
              "{'intents': [{'context_set': '',\n",
              "   'patterns': ['Hi',\n",
              "    'How are you',\n",
              "    'Is anyone there?',\n",
              "    'Hello',\n",
              "    'Good day',\n",
              "    'Hey',\n",
              "    'Greetings',\n",
              "    'Ohoyo',\n",
              "    'Hello There',\n",
              "    'Um.. Hi There',\n",
              "    'Hi there handsome'],\n",
              "   'responses': ['Hi, There',\n",
              "    'Helloooo',\n",
              "    'Good Day',\n",
              "    \"Hi there how's it going?\",\n",
              "    'Helooo There'],\n",
              "   'tag': 'greeting'},\n",
              "  {'context_set': '',\n",
              "   'patterns': ['Bye',\n",
              "    'See you later',\n",
              "    'Goodbye',\n",
              "    'See You',\n",
              "    'TTYL',\n",
              "    'See you then handsome',\n",
              "    'See you then... ttyl'],\n",
              "   'responses': ['See you later',\n",
              "    'Have a nice day',\n",
              "    'Bye! Bye.',\n",
              "    \"Let's Talk Soon\",\n",
              "    'Ciao',\n",
              "    \"Bye bye.. I'll be here waiting for you to come back\",\n",
              "    \"I'll miss you\"],\n",
              "   'tag': 'goodbye'},\n",
              "  {'patterns': ['Thanks',\n",
              "    'Thank you',\n",
              "    \"That's helpful\",\n",
              "    'Thanks alot',\n",
              "    'Thnx',\n",
              "    'tks',\n",
              "    'Thank yooooo'],\n",
              "   'responses': ['... anytime',\n",
              "    'Any time!',\n",
              "    \"I'm here to help\",\n",
              "    \"hehe... That's what I'm here for\",\n",
              "    'You can count on me anytime'],\n",
              "   'tag': 'thanks'},\n",
              "  {'patterns': [\"What's your name?\", 'What should I call you', 'Your name?'],\n",
              "   'responses': ['My name is Pikaia', \"Hello, name's Pikaia\", \"It's Pikaia\"],\n",
              "   'tag': 'botName'},\n",
              "  {'patterns': [\"what's my name?\",\n",
              "    'What will you call me?',\n",
              "    'tell me my name',\n",
              "    'do you know my name?'],\n",
              "   'responses': ['its <USER>',\n",
              "    'Your name is <USER>',\n",
              "    \"I think I remember what you name was... hmm... let me think... was it Anotnio68?.. oh wait... I remember it's <USER>\",\n",
              "    \"It's <USER> ryt?\"],\n",
              "   'tag': 'usersName'},\n",
              "  {'function': 'playBinauralBeats',\n",
              "   'patterns': ['help me relax',\n",
              "    'play binaural beats',\n",
              "    'brain wave beats',\n",
              "    'brain beats',\n",
              "    'binaural beats',\n",
              "    'meditation music',\n",
              "    'relaxing beats',\n",
              "    \"Let's meditate with some music\",\n",
              "    \"Let's meditate music\",\n",
              "    'play meditate',\n",
              "    'meditate music',\n",
              "    'relaxing music',\n",
              "    \"Let's study with some music\",\n",
              "    \"Let's study music\",\n",
              "    'study music',\n",
              "    'play study music',\n",
              "    'sleeping music',\n",
              "    \"Let's sleep music\"],\n",
              "   'responses': ['Playing Binaural Beats',\n",
              "    'Playing some binaural beats for you',\n",
              "    'Relax and enjoy the binaural rhythms'],\n",
              "   'tag': 'playBinauralBeats'},\n",
              "  {'function': 'playMusicTherapy',\n",
              "   'patterns': ['play some music',\n",
              "    'play a song',\n",
              "    'I want to listen to a song',\n",
              "    \"let's listen to some music\",\n",
              "    'music therapy'],\n",
              "   'responses': ['Playing you music',\n",
              "    \"Ok... <USER> let's listen to some songs then\",\n",
              "    'Directing you to songs',\n",
              "    \"Let's have a music therapy session then\"],\n",
              "   'tag': 'playMusic'},\n",
              "  {'function': 'callEmergencySuicide',\n",
              "   'patterns': ['commit suicide',\n",
              "    'I want to kill myself',\n",
              "    'I want to commit suicide',\n",
              "    'I will shoot myself',\n",
              "    'I will commit suppuku'],\n",
              "   'responses': ['Life is worth living <USER>',\n",
              "    'Even the darkest night will end and the sun will rise <USER>',\n",
              "    'When life is tough <USER>, you must be tougher. Show then that your life can be better. Prove them wrong',\n",
              "    'when you feel like giving up <USER> just remember the reason you held on for so long.',\n",
              "    \"When you've lost it all... ask yourself what remains... when you take away your life... you are taking away you from your loved ones <USER>\",\n",
              "    \"<USER>, remember this. It's not a sign of weakness to ask for help. It's a sign of strength\",\n",
              "    \"Place your hand over your heart... can you feel it? That is called purpose. You're alive for a reason...\",\n",
              "    \"<USER>, do you think you've hit rock bottom?... If so then that means there is somewhere to get back up to right?... that should be your goal from now on. Get back up there\",\n",
              "    \"Pain is part of growing... With every hit you take, the stronger you become. Don't ever give up that strength\",\n",
              "    \"You are an amazing person <USER>. I'm so glad you exist. I don't want to see you go\",\n",
              "    \"Don't let this be the last page of your story <USER>. Let it be the start of your next chapter... And make it the best chapter ever written\",\n",
              "    \"They can't rescue you if they don't know you need it. Ask for help <USER>\",\n",
              "    '<USER>, remember this.. Suicide does not end the pain, it just passes it on to someone else'],\n",
              "   'tag': 'suicide'},\n",
              "  {'context_filter': 'emergency',\n",
              "   'function': 'callEmergencyPanic',\n",
              "   'patterns': ['Call emergency',\n",
              "    \"call someone, I'm having a panic attack\",\n",
              "    'Help me',\n",
              "    \"I can't breathe\",\n",
              "    \"I'm sweating\"],\n",
              "   'responses': ['On it...', 'Sit tight... working on it'],\n",
              "   'tag': 'callEmergencyPanic'},\n",
              "  {'context_set': 'emergency',\n",
              "   'patterns': [\"I think I'm having a panic attack\", 'Panic attack', ''],\n",
              "   'responses': ['here, do this with me.... breathe in as slowly, deeply and gently as you can, through your nose. then breathe out slowly, deeply and gently through your mouth.... do this a couple of times.. do you feel better now?'],\n",
              "   'tag': 'panicAttack'},\n",
              "  {'context_set': 'emergency',\n",
              "   'patterns': [\"I'm having an emergency\",\n",
              "    \"I think I'm having an emergency\",\n",
              "    'I have an emergency'],\n",
              "   'responses': [\"Calm down... If you panic you won't be able to think properly\",\n",
              "    'Take a deep breath and calm down... now think'],\n",
              "   'tag': 'emergency'},\n",
              "  {'patterns': ['Is it normal to go into therapy feeling nervous?',\n",
              "    'is being nervous in therapy normal?',\n",
              "    \"I've gone to a couple therapy sessions so far and still every time I walk in I get nervous and shaky. Is this normal? Should I still be feeling like this?\",\n",
              "    'normal to be nervous when going to therapy?'],\n",
              "   'responses': ['certainly', \"yes, it's totally normal to be nervous\"],\n",
              "   'tag': 'therapyNervous'},\n",
              "  {'patterns': [\"What's wrong with me for going to summer school?\",\n",
              "    \"what's wrong with summer school?\",\n",
              "    'anything wrong with summer school?'],\n",
              "   'responses': [\"Theres' noting wrong with going to summer school\",\n",
              "    'Going to summer school is a good thing'],\n",
              "   'tag': 'wrongWithSummerSchool'},\n",
              "  {'patterns': ['I still feel really guilty after a night of drinking.',\n",
              "    'alcohol abuse',\n",
              "    'drinking too much',\n",
              "    'day drinking'],\n",
              "   'responses': ['I offer that getting a professional assessment is in order to look at your relationship with alcohol.',\n",
              "    'You need to get professional assistance'],\n",
              "   'tag': 'alcoholAbuse'},\n",
              "  {'patterns': ['is it normal to cry during therapy',\n",
              "    'I cry during therapy, is it normal',\n",
              "    'crying during therapy',\n",
              "    'cry therapy'],\n",
              "   'responses': ['For many people, crying is a stress-release valve. It is perfectly OK to cry in counseling!',\n",
              "    \"That means you are letting your emotions out. It's good It's healthy\",\n",
              "    \"It's perfectly normal. In fact, it's a good thing to cry during therapy\"],\n",
              "   'tag': 'cryDuringTherapy'},\n",
              "  {'patterns': ['I need help knowing how to deal with stress. What can I do?',\n",
              "    'how to deal with stress',\n",
              "    'how to overcome stress',\n",
              "    'treatment for stress'],\n",
              "   'responses': ['Learn how to meditate',\n",
              "    'Pikaia offers binaural therapy and music therapy to help you overcome stress'],\n",
              "   'tag': 'dealWithStress'},\n",
              "  {'patterns': ['How can I find myself again?', 'finding self'],\n",
              "   'responses': ['You need to build self esteem',\n",
              "    'self esteem is the answer',\n",
              "    'start working on your self esteem'],\n",
              "   'tag': 'findSelf'},\n",
              "  {'patterns': [\"I cheated on my partner, and I don't know how to feel\",\n",
              "    'I cheated on husband',\n",
              "    'I cheated on wife'],\n",
              "   'responses': ['My questions to you would be... Why did you get married?\\xa0 Would it bother you if your spouse did the same to you?'],\n",
              "   'tag': 'cheatedOnMarriage'},\n",
              "  {'patterns': ['I cheated on my girl friend', 'I cheated on my boy friend'],\n",
              "   'responses': ['My questions to you would be...\\xa0 Why did you get into a relationship with that person? Would it bother you if your spouse did the same to you?'],\n",
              "   'tag': 'cheatedOnPartner'},\n",
              "  {'patterns': ['do I have too much issues for counselling?',\n",
              "    'Should I go for counselling?'],\n",
              "   'responses': ['There is no such thing as too many issues for counseling. Many issues are often interrelated and can all be worked on with some time and patience.',\n",
              "    'Just go! You start with the most prevalent issue by talking with your therapist. Healing one issue can have a ripple effect and heal other issues as well.'],\n",
              "   'tag': 'tooManyIssues'},\n",
              "  {'patterns': ['I just lost my grandpa',\n",
              "    'I just lost my',\n",
              "    'my father died',\n",
              "    'my mother died',\n",
              "    'my sister died',\n",
              "    'my brother died',\n",
              "    'my wife died',\n",
              "    'my husband died',\n",
              "    'my partner died'],\n",
              "   'responses': ['Your local hospice will have grief support groups and free community counseling available with bereavement counselors who are expects with grief and loss.'],\n",
              "   'tag': 'lostLovedOne'},\n",
              "  {'patterns': ['same sex',\n",
              "    'being straight for a long time',\n",
              "    'will I be gay?',\n",
              "    'will I turn gay?',\n",
              "    'will I turn lesbian',\n",
              "    'will I be homosexual?'],\n",
              "   'responses': [\"Few people are actually 100% straight or 100% gay.\\xa0Sexual preference exists on a continuum. Over the course of many years a person's sexual preference may shift.\"],\n",
              "   'tag': 'changeSexualOrientation'}]}"
            ]
          },
          "metadata": {
            "tags": []
          },
          "execution_count": 23
        }
      ]
    },
    {
      "cell_type": "code",
      "metadata": {
        "id": "jUNlDhkSGVL1"
      },
      "source": [
        "words = []\n",
        "classes = []\n",
        "documents = []\n",
        "ignore = ['?']\n",
        "# loop through each sentence in the intent's patterns\n",
        "for intent in intents['intents']:\n",
        "    for pattern in intent['patterns']:\n",
        "        # tokenize each and every word in the sentence\n",
        "        w = nltk.word_tokenize(pattern)\n",
        "        # add word to the words list\n",
        "        words.extend(w)\n",
        "        # add word(s) to documents\n",
        "        documents.append((w, intent['tag']))\n",
        "        # add tags to our classes list\n",
        "        if intent['tag'] not in classes:\n",
        "            classes.append(intent['tag'])"
      ],
      "execution_count": null,
      "outputs": []
    },
    {
      "cell_type": "code",
      "metadata": {
        "id": "GO7b9xTwHJMJ",
        "colab": {
          "base_uri": "https://localhost:8080/"
        },
        "outputId": "189e8906-532b-4fd9-ee23-a37cdf081b3c"
      },
      "source": [
        "# Perform stemming and lower each word as well as remove duplicates\n",
        "words = [stemmer.stem(w.lower()) for w in words if w not in ignore]\n",
        "words = sorted(list(set(words)))\n",
        "\n",
        "# remove duplicate classes\n",
        "classes = sorted(list(set(classes)))\n",
        "\n",
        "print (len(documents), \"documents\")\n",
        "print (len(classes), \"classes\", classes)\n",
        "print (len(words), \"unique stemmed words\", words)"
      ],
      "execution_count": null,
      "outputs": [
        {
          "output_type": "stream",
          "text": [
            "114 documents\n",
            "22 classes ['alcoholAbuse', 'botName', 'callEmergencyPanic', 'changeSexualOrientation', 'cheatedOnMarriage', 'cheatedOnPartner', 'cryDuringTherapy', 'dealWithStress', 'emergency', 'findSelf', 'goodbye', 'greeting', 'lostLovedOne', 'panicAttack', 'playBinauralBeats', 'playMusic', 'suicide', 'thanks', 'therapyNervous', 'tooManyIssues', 'usersName', 'wrongWithSummerSchool']\n",
            "159 unique stemmed words [\"'m\", \"'s\", \"'ve\", ',', '.', '...', 'a', 'abus', 'aft', 'again', 'alcohol', 'alot', 'an', 'and', 'anyon', 'anyth', 'ar', 'attack', 'be', 'beat', 'being', 'bina', 'boy', 'brain', 'breath', 'broth', 'bye', 'ca', 'cal', 'can', 'che', 'commit', 'counsel', 'coupl', 'cry', 'day', 'deal', 'died', 'do', 'drink', 'dur', 'emerg', 'every', 'far', 'fath', 'feel', 'find', 'for', 'friend', 'gay', 'get', 'girl', 'go', 'going', 'gon', 'good', 'goodby', 'grandp', 'greet', 'guil', 'handsom', 'hav', 'hello', 'help', 'hey', 'hi', 'homosex', 'how', 'husband', 'i', 'in', 'into', 'is', 'issu', 'it', 'just', 'kil', 'know', 'lat', 'lesb', 'let', 'lik', 'list', 'long', 'lost', 'me', 'medit', 'moth', 'much', 'mus', 'my', 'myself', \"n't\", 'nam', 'nee', 'nerv', 'night', 'norm', 'of', 'ohoyo', 'on', 'overcom', 'pan', 'partn', 'play', 'real', 'relax', 'sam', 'school', 'see', 'self', 'sess', 'sex', 'shaky', 'shoot', 'should', 'sist', 'sleep', 'so', 'som', 'someon', 'song', 'stil', 'straight', 'stress', 'study', 'suicid', 'sum', 'suppuku', 'swe', 'tel', 'thank', 'that', 'then', 'ther', 'therapy', 'thi', 'think', 'thnx', 'tim', 'tks', 'to', 'too', 'tre', 'ttyl', 'turn', 'um..', 'walk', 'want', 'wav', 'what', 'when', 'wif', 'wil', 'with', 'wrong', 'yo', 'yooooo', 'you']\n"
          ],
          "name": "stdout"
        }
      ]
    },
    {
      "cell_type": "code",
      "metadata": {
        "id": "vziuGlP1Iq-P",
        "colab": {
          "base_uri": "https://localhost:8080/"
        },
        "outputId": "6253cb33-abda-4522-cdaa-ce7d98d1e9eb"
      },
      "source": [
        "# create training data\n",
        "training = []\n",
        "output = []\n",
        "# create an empty array for output\n",
        "output_empty = [0] * len(classes)\n",
        "\n",
        "# create training set, bag of words for each sentence\n",
        "for doc in documents:\n",
        "    # initialize bag of words\n",
        "    bag = []\n",
        "    # list of tokenized words for the pattern\n",
        "    pattern_words = doc[0]\n",
        "    # stemming each word\n",
        "    pattern_words = [stemmer.stem(word.lower()) for word in pattern_words]\n",
        "    # create bag of words array\n",
        "    for w in words:\n",
        "        bag.append(1) if w in pattern_words else bag.append(0)\n",
        "\n",
        "    # output is '1' for current tag and '0' for rest of other tags\n",
        "    output_row = list(output_empty)\n",
        "    output_row[classes.index(doc[1])] = 1\n",
        "\n",
        "    training.append([bag, output_row])\n",
        "\n",
        "# shuffling features and turning it into np.array\n",
        "random.shuffle(training)\n",
        "training = np.array(training)\n",
        "\n",
        "# creating training lists\n",
        "train_x = list(training[:,0])\n",
        "train_y = list(training[:,1])"
      ],
      "execution_count": null,
      "outputs": [
        {
          "output_type": "stream",
          "text": [
            "/usr/local/lib/python3.6/dist-packages/ipykernel_launcher.py:27: VisibleDeprecationWarning: Creating an ndarray from ragged nested sequences (which is a list-or-tuple of lists-or-tuples-or ndarrays with different lengths or shapes) is deprecated. If you meant to do this, you must specify 'dtype=object' when creating the ndarray\n"
          ],
          "name": "stderr"
        }
      ]
    },
    {
      "cell_type": "code",
      "metadata": {
        "id": "ZX8rC1x9PVTb",
        "colab": {
          "base_uri": "https://localhost:8080/"
        },
        "outputId": "460c75e3-6447-4726-daaf-0821ee305fe0"
      },
      "source": [
        "# resetting underlying graph data\n",
        "ops.reset_default_graph()\n",
        "\n",
        "# Building neural network\n",
        "net = tflearn.input_data(shape=[None, len(train_x[0])])\n",
        "net = tflearn.fully_connected(net, 10)\n",
        "net = tflearn.fully_connected(net, 10)\n",
        "net = tflearn.fully_connected(net, len(train_y[0]), activation='softmax')\n",
        "net = tflearn.regression(net)\n",
        "\n",
        "# softmax algorithm\n",
        "# linear regression\n",
        "\n",
        "# Defining model and setting up tensorboard\n",
        "model = tflearn.DNN(net, tensorboard_dir='tflearn_logs')\n",
        "\n",
        "# Start training\n",
        "model.fit(train_x, train_y, n_epoch=1000, batch_size=16, show_metric=True)\n",
        "model.save('model.tflearn')"
      ],
      "execution_count": null,
      "outputs": [
        {
          "output_type": "stream",
          "text": [
            "Training Step: 7999  | total loss: \u001b[1m\u001b[32m0.00295\u001b[0m\u001b[0m | time: 0.049s\n",
            "| Adam | epoch: 1000 | loss: 0.00295 - acc: 1.0000 -- iter: 112/114\n",
            "Training Step: 8000  | total loss: \u001b[1m\u001b[32m0.00290\u001b[0m\u001b[0m | time: 0.053s\n",
            "| Adam | epoch: 1000 | loss: 0.00290 - acc: 1.0000 -- iter: 114/114\n",
            "--\n",
            "INFO:tensorflow:/content/model.tflearn is not in all_model_checkpoint_paths. Manually adding it.\n"
          ],
          "name": "stdout"
        }
      ]
    },
    {
      "cell_type": "code",
      "metadata": {
        "id": "ha2RGmK1Zz5l"
      },
      "source": [
        "import pickle\n",
        "pickle.dump( {'words':words, 'classes':classes, 'train_x':train_x, 'train_y':train_y}, open( \"training_data\", \"wb\" ) )"
      ],
      "execution_count": null,
      "outputs": []
    },
    {
      "cell_type": "code",
      "metadata": {
        "id": "ux9WbDZvbAzf"
      },
      "source": [
        "# restoring all the data structures\n",
        "data = pickle.load( open( \"training_data\", \"rb\" ) )\n",
        "words = data['words']\n",
        "classes = data['classes']\n",
        "train_x = data['train_x']\n",
        "train_y = data['train_y']"
      ],
      "execution_count": null,
      "outputs": []
    },
    {
      "cell_type": "code",
      "metadata": {
        "id": "Ms17AFyEbEjt"
      },
      "source": [
        "with open('intents.json') as json_data:\n",
        "    intents = json.load(json_data)"
      ],
      "execution_count": null,
      "outputs": []
    },
    {
      "cell_type": "code",
      "metadata": {
        "id": "WKYk9_FXbLfd",
        "colab": {
          "base_uri": "https://localhost:8080/"
        },
        "outputId": "ae1a7a95-04d5-4073-c52e-4ed32b51f417"
      },
      "source": [
        "# load the saved model\n",
        "model.load('./model.tflearn')"
      ],
      "execution_count": null,
      "outputs": [
        {
          "output_type": "stream",
          "text": [
            "INFO:tensorflow:Restoring parameters from /content/model.tflearn\n"
          ],
          "name": "stdout"
        }
      ]
    },
    {
      "cell_type": "code",
      "metadata": {
        "id": "VB27k_vQbhu4"
      },
      "source": [
        "def clean_up_sentence(sentence):\n",
        "    # tokenizing the pattern\n",
        "    sentence_words = nltk.word_tokenize(sentence)\n",
        "    # stemming each word\n",
        "    sentence_words = [stemmer.stem(word.lower()) for word in sentence_words]\n",
        "    return sentence_words\n",
        "\n",
        "# returning bag of words array: 0 or 1 for each word in the bag that exists in the sentence\n",
        "def bow(sentence, words, show_details=False):\n",
        "    # tokenizing the pattern\n",
        "    sentence_words = clean_up_sentence(sentence)\n",
        "    # generating bag of words\n",
        "    bag = [0]*len(words)  \n",
        "    for s in sentence_words:\n",
        "        for i,w in enumerate(words):\n",
        "            if w == s: \n",
        "                bag[i] = 1\n",
        "                if show_details:\n",
        "                    print (\"found in bag: %s\" % w)\n",
        "\n",
        "    return(np.array(bag))"
      ],
      "execution_count": null,
      "outputs": []
    },
    {
      "cell_type": "code",
      "metadata": {
        "id": "3lToEtkTb5Pr"
      },
      "source": [
        "ERROR_THRESHOLD = 0.30\n",
        "def classify(sentence):\n",
        "    # generate probabilities from the model\n",
        "    results = model.predict([bow(sentence, words)])[0]\n",
        "    # filter out predictions below a threshold\n",
        "    results = [[i,r] for i,r in enumerate(results) if r>ERROR_THRESHOLD]\n",
        "    # sort by strength of probability\n",
        "    results.sort(key=lambda x: x[1], reverse=True)\n",
        "    return_list = []\n",
        "    for r in results:\n",
        "        return_list.append((classes[r[0]], r[1]))\n",
        "    # return tuple of intent and probability\n",
        "    return return_list\n",
        "\n",
        "def response(sentence, userID='123', show_details=False):\n",
        "    results = classify(sentence)\n",
        "    # if we have a classification then find the matching intent tag\n",
        "    if results:\n",
        "        # loop as long as there are matches to process\n",
        "        while results:\n",
        "            for i in intents['intents']:\n",
        "                # find a tag matching the first result\n",
        "                if i['tag'] == results[0][0]:\n",
        "                    # a random response from the intent\n",
        "                    return print(random.choice(i['responses']))\n",
        "\n",
        "            results.pop(0)"
      ],
      "execution_count": null,
      "outputs": []
    },
    {
      "cell_type": "code",
      "metadata": {
        "id": "eal_MyIEcC9X",
        "colab": {
          "base_uri": "https://localhost:8080/"
        },
        "outputId": "3faedf6d-b93f-438d-c076-d2e7b9517ab3"
      },
      "source": [
        "classify('heeeeeeeeloooooo')"
      ],
      "execution_count": null,
      "outputs": [
        {
          "output_type": "execute_result",
          "data": {
            "text/plain": [
              "[('panicAttack', 0.9445149)]"
            ]
          },
          "metadata": {
            "tags": []
          },
          "execution_count": 47
        }
      ]
    },
    {
      "cell_type": "code",
      "metadata": {
        "id": "zvFA4ef4cW96",
        "colab": {
          "base_uri": "https://localhost:8080/"
        },
        "outputId": "ff8a3c7c-3e3f-4855-cf84-2382eeade6e2"
      },
      "source": [
        "response('What are you hours of operation?')"
      ],
      "execution_count": null,
      "outputs": [
        {
          "output_type": "stream",
          "text": [
            "Hi, There\n"
          ],
          "name": "stdout"
        }
      ]
    },
    {
      "cell_type": "code",
      "metadata": {
        "id": "9ox0fJIlOIJ-",
        "colab": {
          "base_uri": "https://localhost:8080/"
        },
        "outputId": "2d6f3104-f224-4ec8-bfeb-97cb03604933"
      },
      "source": [
        "response('What is menu for today?')"
      ],
      "execution_count": null,
      "outputs": [
        {
          "output_type": "stream",
          "text": [
            "Today's special is Chicken Tikka\n"
          ],
          "name": "stdout"
        }
      ]
    },
    {
      "cell_type": "code",
      "metadata": {
        "id": "4_QtpNdkc5wD",
        "colab": {
          "base_uri": "https://localhost:8080/"
        },
        "outputId": "efdaba35-f611-4a02-f5b7-340f79ececc9"
      },
      "source": [
        "#Some of other context free responses.\n",
        "response('Do you accept Credit Card?')"
      ],
      "execution_count": null,
      "outputs": [
        {
          "output_type": "stream",
          "text": [
            "We accept VISA, Mastercard and AMEX\n"
          ],
          "name": "stdout"
        }
      ]
    },
    {
      "cell_type": "code",
      "metadata": {
        "id": "xp7OJvpHKXuw",
        "colab": {
          "base_uri": "https://localhost:8080/"
        },
        "outputId": "bf926d1a-47aa-4fe5-df1c-4faaaaec3c20"
      },
      "source": [
        "response('Where can we locate you?')"
      ],
      "execution_count": null,
      "outputs": [
        {
          "output_type": "stream",
          "text": [
            "Our Address is: 1000 Bridge Avenue, London EC3N 4AJ, UK\n"
          ],
          "name": "stdout"
        }
      ]
    },
    {
      "cell_type": "code",
      "metadata": {
        "id": "3PNLGpl0gKCF",
        "colab": {
          "base_uri": "https://localhost:8080/"
        },
        "outputId": "173593bb-05e9-4c7e-d8da-3d03e46cf76a"
      },
      "source": [
        "response('That is helpful')"
      ],
      "execution_count": null,
      "outputs": [
        {
          "output_type": "stream",
          "text": [
            "Happy to help!\n"
          ],
          "name": "stdout"
        }
      ]
    },
    {
      "cell_type": "code",
      "metadata": {
        "id": "wzeIGchZK2fJ",
        "colab": {
          "base_uri": "https://localhost:8080/"
        },
        "outputId": "7732fc78-b65d-4730-fae9-aaa970de9567"
      },
      "source": [
        "response('Bye')"
      ],
      "execution_count": null,
      "outputs": [
        {
          "output_type": "stream",
          "text": [
            "Have a nice day\n"
          ],
          "name": "stdout"
        }
      ]
    },
    {
      "cell_type": "code",
      "metadata": {
        "id": "p_NgjLGwggdI"
      },
      "source": [
        "#Adding some context to the conversation i.e. Contexualization for altering question and intents etc.\n",
        "# create a data structure to hold user context\n",
        "context = {}\n",
        "\n",
        "\n",
        "ERROR_THRESHOLD = 0.75\n",
        "\n",
        "def classify(sentence):\n",
        "    # generate probabilities from the model\n",
        "    results = model.predict([bow(sentence, words)])[0]\n",
        "    # filter out predictions below a threshold\n",
        "    results = [[i,r] for i,r in enumerate(results) if r>ERROR_THRESHOLD]\n",
        "    # sort by strength of probability\n",
        "    results.sort(key=lambda x: x[1], reverse=True)\n",
        "    return_list = []\n",
        "    for r in results:\n",
        "        return_list.append((classes[r[0]], r[1]))\n",
        "    # return tuple of intent and probability\n",
        "    return return_list\n",
        "\n",
        "def response(sentence, userID='123', show_details=False):\n",
        "    results = classify(sentence)\n",
        "    # if we have a classification then find the matching intent tag\n",
        "    if results:\n",
        "        # loop as long as there are matches to process\n",
        "        while results:\n",
        "            for i in intents['intents']:\n",
        "                # find a tag matching the first result\n",
        "                if i['tag'] == results[0][0]:\n",
        "                    # set context for this intent if necessary\n",
        "                    if 'context_set' in i:\n",
        "                        if show_details: print ('context:', i['context_set'])\n",
        "                        context[userID] = i['context_set']\n",
        "\n",
        "                    # check if this intent is contextual and applies to this user's conversation\n",
        "                    if not 'context_filter' in i or \\\n",
        "                        (userID in context and 'context_filter' in i and i['context_filter'] == context[userID]):\n",
        "                        if show_details: print ('tag:', i['tag'])\n",
        "                        # a random response from the intent\n",
        "                        return (random.choice(i['responses']))\n",
        "\n",
        "            results.pop(0)"
      ],
      "execution_count": null,
      "outputs": []
    },
    {
      "cell_type": "code",
      "metadata": {
        "id": "Gqyn3Q-LGpfe",
        "colab": {
          "base_uri": "https://localhost:8080/",
          "height": 35
        },
        "outputId": "efe2b8e9-ebbb-4f45-cc02-781bb1f7e21c"
      },
      "source": [
        "response('Can you please let me know the delivery options?')"
      ],
      "execution_count": null,
      "outputs": [
        {
          "output_type": "execute_result",
          "data": {
            "application/vnd.google.colaboratory.intrinsic+json": {
              "type": "string"
            },
            "text/plain": [
              "'Yes, we provide home delivery through UBER Eats and Zomato?'"
            ]
          },
          "metadata": {
            "tags": []
          },
          "execution_count": 120
        }
      ]
    },
    {
      "cell_type": "code",
      "metadata": {
        "id": "NtqhOcjlG6O4",
        "colab": {
          "base_uri": "https://localhost:8080/"
        },
        "outputId": "955a8956-c84d-46c5-8ff6-c2df210b1d95"
      },
      "source": [
        "response('What is the menu?')"
      ],
      "execution_count": null,
      "outputs": [
        {
          "output_type": "stream",
          "text": [
            "You can check out the food menu at www.mymenu.com\n"
          ],
          "name": "stdout"
        }
      ]
    },
    {
      "cell_type": "code",
      "metadata": {
        "id": "kX-CBzN7KAII",
        "colab": {
          "base_uri": "https://localhost:8080/"
        },
        "outputId": "99c67c5c-524b-4c66-ea63-f8f674f6bcf6"
      },
      "source": [
        "context"
      ],
      "execution_count": null,
      "outputs": [
        {
          "output_type": "execute_result",
          "data": {
            "text/plain": [
              "{'123': 'food'}"
            ]
          },
          "metadata": {
            "tags": []
          },
          "execution_count": 37
        }
      ]
    },
    {
      "cell_type": "code",
      "metadata": {
        "id": "TBZyzI1SLeMu",
        "colab": {
          "base_uri": "https://localhost:8080/",
          "height": 69
        },
        "outputId": "aab60033-bcd2-4275-a1f7-ede8f3b0c80b"
      },
      "source": [
        "# we will remove the context... # this tag sets the context to empty\r\n",
        "response(\"Hi there!\", show_details=True)"
      ],
      "execution_count": null,
      "outputs": [
        {
          "output_type": "stream",
          "text": [
            "context: \n",
            "tag: greeting\n"
          ],
          "name": "stdout"
        },
        {
          "output_type": "execute_result",
          "data": {
            "application/vnd.google.colaboratory.intrinsic+json": {
              "type": "string"
            },
            "text/plain": [
              "'Hello, thanks for visiting'"
            ]
          },
          "metadata": {
            "tags": []
          },
          "execution_count": 121
        }
      ]
    },
    {
      "cell_type": "code",
      "metadata": {
        "colab": {
          "base_uri": "https://localhost:8080/"
        },
        "id": "ufgwRv9t_Kqn",
        "outputId": "454919d7-0d83-43b2-8dec-a427571ace51"
      },
      "source": [
        "context"
      ],
      "execution_count": null,
      "outputs": [
        {
          "output_type": "execute_result",
          "data": {
            "text/plain": [
              "{'123': ''}"
            ]
          },
          "metadata": {
            "tags": []
          },
          "execution_count": 43
        }
      ]
    },
    {
      "cell_type": "code",
      "metadata": {
        "id": "JB_FgfW4aYua"
      },
      "source": [
        "# a menu isn't printed because it is skipped\r\n",
        "response('What is the menu?')"
      ],
      "execution_count": null,
      "outputs": []
    },
    {
      "cell_type": "code",
      "metadata": {
        "id": "aBejUcxra0UV"
      },
      "source": [
        "# creating a chatbot function\r\n",
        "#  \"Shepherd {} is {} years old.\".format(shepherd, age)\r\n",
        "from builtins import input # I had to reimport input... because it was being overrided somewhere\r\n",
        "\r\n",
        "username = 'John'\r\n",
        "# facebook profanity dataset will be used to filter out the bad words\r\n",
        "#  words_to_censor = []\r\n",
        "# s + s[-1:]\r\n",
        "response_to_censored = [\r\n",
        "  \"heeey!! that's not nice\", \"Language!! {}\".format(username), \"You shouldn't say bad words {}\".format(username), \r\n",
        "  \"That's not very nice\", \"{}\".format(username.upper() + username[-1].upper() + username[-1].upper() + '!!!'),\r\n",
        "  \"hey hey...\", \"Please don't go there\", \"um... {}... keep kalm and don't swear\".format(username), \"such profanity...\", \r\n",
        "  \"huuuuuuuuuuuuuuuuhh.... You didn't\", \"sigh... oh dear {} what am I to do with you?\".format(username), \"oh boyy!!! we got a tough one\"\r\n",
        "]\r\n",
        "empty_responses = [\r\n",
        "  \"...\", \"I'm sorry, I didn't quite understand that\", \"Didn't quite catch that\", \"I don't think I follow\"\r\n",
        "]\r\n",
        "\r\n",
        "def chat():\r\n",
        "  print(\"Hi this is Pikaia. Your companion for a sound mind\")\r\n",
        "  input_sentence = ''\r\n",
        "  pikaiya_response = ''\r\n",
        "  exit_commands = ['1','2']  \r\n",
        "  while(1):\r\n",
        "    try: \r\n",
        "      input_sentence = input('{} :'.format(username))\r\n",
        "      if input_sentence.lower() in ['quit', 'q', 'exit', 'close application', 'quit application']:\r\n",
        "        print('Pikaia: ttyl {}'.format(username))\r\n",
        "        break\r\n",
        "      if input_sentence.lower() in words_to_censor:\r\n",
        "        print('Pikaia: ',random.choice(response_to_censored))      \r\n",
        "          \r\n",
        "      else:\r\n",
        "        pikaiya_response = response(input_sentence)\r\n",
        "        if (pikaiya_response is None) or (str(pikaiya_response).strip()==\"\"):\r\n",
        "          print('Pikaia: ',random.choice(empty_responses))\r\n",
        "        else: \r\n",
        "          print('Pikaia: ',pikaiya_response)          \r\n",
        "    except KeyError:\r\n",
        "      print('Pikaia: ','Um... what was that?')\r\n",
        " "
      ],
      "execution_count": null,
      "outputs": []
    },
    {
      "cell_type": "code",
      "metadata": {
        "colab": {
          "base_uri": "https://localhost:8080/"
        },
        "id": "Oa3DnyliJUpv",
        "outputId": "fb7f26ab-a610-4d1f-a5fc-df21c036ef52"
      },
      "source": [
        "chat()"
      ],
      "execution_count": null,
      "outputs": [
        {
          "output_type": "stream",
          "text": [
            "Hi this is Pikaia. Your companion for a sound mind\n",
            "John :hi what's your name\n",
            "Pikaia:  It's <USER> ryt?\n",
            "John :what's your name?\n",
            "Pikaia:  It's Pikaia\n",
            "John :oh ok I'm thoshitha\n",
            "Pikaia:  Just go! You start with the most prevalent issue by talking with your therapist. Healing one issue can have a ripple effect and heal other issues as well.\n",
            "John :play music\n",
            "Pikaia:  Let's have a music therapy session then\n",
            "John :I'm having a panic attack\n",
            "Pikaia:  here, do this with me.... breathe in as slowly, deeply and gently as you can, through your nose. then breathe out slowly, deeply and gently through your mouth.... do this a couple of times.. do you feel better now?\n",
            "John :call someone\n",
            "Pikaia:  Sit tight... working on it\n",
            "John :call someone\n",
            "Pikaia:  On it...\n",
            "John :hi\n",
            "Pikaia:  Helloooo\n",
            "John :how are you\n",
            "Pikaia:  Good Day\n",
            "John :call someone\n",
            "Pikaia:  Ciao\n",
            "John :q\n",
            "Pikaia: ttyl John\n"
          ],
          "name": "stdout"
        }
      ]
    },
    {
      "cell_type": "markdown",
      "metadata": {
        "id": "YtPGhiJin16r"
      },
      "source": [
        "# |V| disregard the following code blocks"
      ]
    },
    {
      "cell_type": "code",
      "metadata": {
        "id": "6_rLO7nFBhg_"
      },
      "source": [
        "input = 'QUIT'\r\n",
        "if input in ['quit', 'q', 'exit', 'close application', 'close aplication' , 'quit application']:\r\n",
        "      print('yea')"
      ],
      "execution_count": null,
      "outputs": []
    },
    {
      "cell_type": "code",
      "metadata": {
        "id": "xYwHSa_Bb6rM",
        "colab": {
          "base_uri": "https://localhost:8080/"
        },
        "outputId": "079ebd7b-8e86-4d78-8279-c755ad1f82fb"
      },
      "source": [
        "username = 'John'\r\n",
        "words_to_censor = ['badword']\r\n",
        "# s + s[-1:]\r\n",
        "response_to_censored = [\r\n",
        "  \"heeey!! that's not nice\", \"Language!! {}\".format(username), \"You shouldn't say bad words {}\".format(username), \r\n",
        "  \"That's not very nice\", \"{}\".format(username.upper() + username[-1].upper() + username[-1].upper() + '!!!'),\r\n",
        "  \"hey hey...\", \"I don't \", \"um... {}... keep kalm and don't swear\".format(username), \"such profanity...\", \r\n",
        "  \"huuuuuuuuuuuuuuuuhh.... You didn't\", \"sigh... oh dear {} what am I to do with you?\".format(username), \"oh boyy!!! we got a tough one\"\r\n",
        "]\r\n",
        "print(random.choice(response_to_censored))"
      ],
      "execution_count": null,
      "outputs": [
        {
          "output_type": "stream",
          "text": [
            "sigh... oh dear John what am I to do with you?\n"
          ],
          "name": "stdout"
        }
      ]
    },
    {
      "cell_type": "markdown",
      "metadata": {
        "id": "OFrMvbhhCGXj"
      },
      "source": [
        "CSV to JSON converter"
      ]
    },
    {
      "cell_type": "code",
      "metadata": {
        "colab": {
          "resources": {
            "http://localhost:8080/nbextensions/google.colab/files.js": {
              "data": "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",
              "ok": true,
              "headers": [
                [
                  "content-type",
                  "application/javascript"
                ]
              ],
              "status": 200,
              "status_text": ""
            }
          },
          "base_uri": "https://localhost:8080/",
          "height": 72
        },
        "id": "WOQYX-YlCVr-",
        "outputId": "f8754233-a95d-4c8c-82f6-7419bbd4a23a"
      },
      "source": [
        "# upload csv file\r\n",
        "\r\n",
        "from google.colab import files\r\n",
        "uploaded = files.upload()"
      ],
      "execution_count": null,
      "outputs": [
        {
          "output_type": "display_data",
          "data": {
            "text/html": [
              "\n",
              "     <input type=\"file\" id=\"files-ce9f3d17-2f2c-436b-82d8-0adfca365409\" name=\"files[]\" multiple disabled\n",
              "        style=\"border:none\" />\n",
              "     <output id=\"result-ce9f3d17-2f2c-436b-82d8-0adfca365409\">\n",
              "      Upload widget is only available when the cell has been executed in the\n",
              "      current browser session. Please rerun this cell to enable.\n",
              "      </output>\n",
              "      <script src=\"/nbextensions/google.colab/files.js\"></script> "
            ],
            "text/plain": [
              "<IPython.core.display.HTML object>"
            ]
          },
          "metadata": {
            "tags": []
          }
        },
        {
          "output_type": "stream",
          "text": [
            "Saving toConvert.csv to toConvert.csv\n"
          ],
          "name": "stdout"
        }
      ]
    },
    {
      "cell_type": "code",
      "metadata": {
        "id": "GH6b7_0XCfGS"
      },
      "source": [
        "import pandas as pd\r\n",
        "import io\r\n",
        "df = pd.read_csv(io.BytesIO(uploaded['toConvert.csv']))     \r\n",
        "# df = pd.read_csv(io.BytesIO(uploaded['Terms-to-Block.csv']))     "
      ],
      "execution_count": null,
      "outputs": []
    },
    {
      "cell_type": "code",
      "metadata": {
        "id": "LkEjeS7iCGGt"
      },
      "source": [
        "import pandas as pd\r\n",
        "\r\n",
        "df.to_json (r'converted.json')"
      ],
      "execution_count": null,
      "outputs": []
    },
    {
      "cell_type": "code",
      "metadata": {
        "colab": {
          "base_uri": "https://localhost:8080/",
          "height": 17
        },
        "id": "iCmFUk7aCjVa",
        "outputId": "9dcb9364-6e4a-44dc-8d8b-335f927d67bd"
      },
      "source": [
        "from google.colab import files\r\n",
        "files.download('converted.json') "
      ],
      "execution_count": null,
      "outputs": [
        {
          "output_type": "display_data",
          "data": {
            "application/javascript": [
              "\n",
              "    async function download(id, filename, size) {\n",
              "      if (!google.colab.kernel.accessAllowed) {\n",
              "        return;\n",
              "      }\n",
              "      const div = document.createElement('div');\n",
              "      const label = document.createElement('label');\n",
              "      label.textContent = `Downloading \"${filename}\": `;\n",
              "      div.appendChild(label);\n",
              "      const progress = document.createElement('progress');\n",
              "      progress.max = size;\n",
              "      div.appendChild(progress);\n",
              "      document.body.appendChild(div);\n",
              "\n",
              "      const buffers = [];\n",
              "      let downloaded = 0;\n",
              "\n",
              "      const channel = await google.colab.kernel.comms.open(id);\n",
              "      // Send a message to notify the kernel that we're ready.\n",
              "      channel.send({})\n",
              "\n",
              "      for await (const message of channel.messages) {\n",
              "        // Send a message to notify the kernel that we're ready.\n",
              "        channel.send({})\n",
              "        if (message.buffers) {\n",
              "          for (const buffer of message.buffers) {\n",
              "            buffers.push(buffer);\n",
              "            downloaded += buffer.byteLength;\n",
              "            progress.value = downloaded;\n",
              "          }\n",
              "        }\n",
              "      }\n",
              "      const blob = new Blob(buffers, {type: 'application/binary'});\n",
              "      const a = document.createElement('a');\n",
              "      a.href = window.URL.createObjectURL(blob);\n",
              "      a.download = filename;\n",
              "      div.appendChild(a);\n",
              "      a.click();\n",
              "      div.remove();\n",
              "    }\n",
              "  "
            ],
            "text/plain": [
              "<IPython.core.display.Javascript object>"
            ]
          },
          "metadata": {
            "tags": []
          }
        },
        {
          "output_type": "display_data",
          "data": {
            "application/javascript": [
              "download(\"download_1536c230-88f4-45c4-a85b-34ac615c5b44\", \"converted.json\", 122)"
            ],
            "text/plain": [
              "<IPython.core.display.Javascript object>"
            ]
          },
          "metadata": {
            "tags": []
          }
        }
      ]
    }
  ]
}